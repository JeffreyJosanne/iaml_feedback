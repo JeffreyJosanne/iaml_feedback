{
 "cells": [
  {
   "cell_type": "markdown",
   "metadata": {},
   "source": [
    "<font color='red'>TOTAL: 84/100</font>\n",
    "<br>\n",
    "<font color='green'>COMMENT: Well done!</font>"
   ]
  },
  {
   "cell_type": "markdown",
   "metadata": {},
   "source": [
    "# Introductory applied machine learning (INFR10069)"
   ]
  },
  {
   "cell_type": "markdown",
   "metadata": {},
   "source": [
    "# Assignment 2: Linear regression"
   ]
  },
  {
   "cell_type": "markdown",
   "metadata": {},
   "source": [
    "## Marking Breakdown\n",
    "\n",
    "**70-100%** results/answer correct plus extra achievement at understanding or analysis of results. Clear explanations, evidence of creative or deeper thought will contribute to a higher grade.\n",
    "\n",
    "**60-69%** results/answer correct or nearly correct and well explained.\n",
    "\n",
    "**50-59%** results/answer in right direction but significant errors.\n",
    "\n",
    "**40-49%** some evidence that the student has gained some understanding, but not answered the questions\n",
    "properly.\n",
    "\n",
    "**0-39%** serious error or slack work."
   ]
  },
  {
   "cell_type": "markdown",
   "metadata": {},
   "source": [
    "## Mechanics\n",
    "\n",
    "Fill out this notebook, save it, and **submit it electronically as described below.**\n",
    "\n",
    "On a DICE environment, open the terminal, navigate to the location of this notebook, and submit this notebook file using the following command:\n",
    "\n",
    "`submit iaml cw1 05_Assignment_2.ipynb`\n",
    "\n",
    "What actually happens in the background is that your file is placed in a folder available to markers. If you submit a file with the same name into the same location, **it will *overwrite* your previous submission**. You can check the status of your submissions with the `show_submissions` command.\n",
    "\n",
    "**Distance Learners:** To copy your work up to DICE (such that you can use the `submit` command) you can use `scp` or `rsync` (you may need to install these yourself). You can copy files up using `student.ssh.inf.ed.ac.uk`, then ssh in to submit, e.g. (in a unix terminal):\n",
    "```\n",
    "filename=05_Assignment_2.ipynb\n",
    "local_scp_filepath=~/git/iaml2017/${filename}\n",
    "UUN=s0816700\n",
    "server_address=student.ssh.inf.ed.ac.uk\n",
    "scp -r ${local_scp_filepath} ${UUN}@${server_address}:${filename}\n",
    "# rsync -rl ${local_scp_filepath} ${UUN}@${server_address}:${filename}\n",
    "ssh ${UUN}@${server_address}\n",
    "ssh student.login\n",
    "submit iaml cw1 05_Assignment_2.ipynb\n",
    "```\n",
    "\n",
    "**Late submissions:** The policy stated in the School of Informatics MSc Degree Guide is that normally you will not be allowed to submit coursework late. See http://www.inf.ed.ac.uk/teaching/years/msc/courseguide10.html#exam for exceptions to this, e.g. in case of serious medical illness or serious personal problems.\n",
    "\n",
    "**Collaboration:** You may discuss the assignment with your colleagues, provided that the writing that you submit is entirely your own. That is, you should NOT borrow actual text or code from other students. We ask that you provide a list of the people who you've had discussions with (if any).\n",
    "\n",
    "**Resubmission:** If you submit your file again, the previous submission is **overwritten**. We will mark the version that is in the submission folder at the deadline."
   ]
  },
  {
   "cell_type": "markdown",
   "metadata": {},
   "source": [
    "## Important Instructions\n",
    "\n",
    "1. You *MUST* have your environment set up as in the [README](https://github.com/JamesOwers/iaml2017) and you *must activate this environment before running this notebook*:\n",
    "```\n",
    "source activate iaml\n",
    "cd iaml_2017\n",
    "jupyter notebook\n",
    "# Navigate to this file\n",
    "```\n",
    "\n",
    "1. Wherever you are required to produce code you should use code cells, otherwise you should use markdown cells to report results and explain answers.\n",
    "\n",
    "1. The .csv files that you will be using are located at `./datasets` (the `datasets` directory is adjacent to this file).\n",
    "\n",
    "1. **IMPORTANT:** Keep your answers brief and concise. Most written questions can be answered with 2-3 lines of explanation."
   ]
  },
  {
   "cell_type": "markdown",
   "metadata": {},
   "source": [
    "## Imports\n",
    "\n",
    "Execute the cell below to import all packages you will be using in the rest of the assignemnt."
   ]
  },
  {
   "cell_type": "code",
   "execution_count": 1,
   "metadata": {
    "collapsed": true
   },
   "outputs": [],
   "source": [
    "from __future__ import print_function, division\n",
    "import os\n",
    "import numpy as np\n",
    "import pandas as pd\n",
    "import matplotlib.pyplot as plt\n",
    "from sklearn.metrics import r2_score, explained_variance_score, mean_absolute_error, mean_squared_error\n",
    "from sklearn.model_selection import train_test_split, KFold, cross_val_predict\n",
    "from sklearn.linear_model import LinearRegression\n",
    "from sklearn.preprocessing import OneHotEncoder, LabelEncoder\n",
    "from sklearn.tree import DecisionTreeRegressor\n",
    "from sklearn.ensemble import RandomForestRegressor\n",
    "import seaborn as sns\n",
    "%matplotlib inline"
   ]
  },
  {
   "cell_type": "markdown",
   "metadata": {},
   "source": [
    "## Description of the dataset\n",
    "This assignment is based on the automobile pricing dataset. Our goal will be to predict the price of automobiles based on various attributes. This data set consists of three types of entities: \n",
    "\n",
    "1. The specification of an automobile in terms of various characteristics \n",
    "\n",
    "1. Assigned insurance risk rating \n",
    "   * this rating corresponds to the degree to which the auto is more risky than its price indicates. Cars are initially assigned a risk factor symbol associated with its price. Then, if it is more risky (or less), this symbol is adjusted by moving it up (or down) the scale. Actuaries call this process ”symboling”. A value of +3 indicates that the auto is risky, -3 that it is probably pretty safe. \n",
    "\n",
    "1. Normalized losses in use as compared to other cars\n",
    "  * the third factor is the relative average loss payment per insured vehicle year. This value is normalized for all autos within a particular size classification (two door small, station wagons, sports/speciality, etc...), and represents the average loss per car per year (avg_loss/car/year). \n",
    "\n",
    "\n",
    "To save you time and to make the problem manageable with limited computational resources, we preprocessed the original dataset. We removed any instances that had one or more missing values and randomized the data set. The resulting representation is much more compact and can be used directly to perform our experiments.\n"
   ]
  },
  {
   "cell_type": "markdown",
   "metadata": {},
   "source": [
    "## 1. Simple Linear Regression [50%]\n",
    "We will begin by studying a simple Linear Regression model. Such a model will consider the relationship between a dependent (response) variable and only one independent (explanatory) variable. When applying machine learning in practice it can be prudent to start out simple in order to get a feeling for the dataset and for any potential difficulties that might warrant a more sophisticated model. In this Section we will consider one independent variable (i.e. feature) `engine-power` against the dependent variable (i.e. target) `price`."
   ]
  },
  {
   "cell_type": "markdown",
   "metadata": {},
   "source": [
    "### ========== Question 1.1 --- [1 mark] ==========\n",
    "Load the dataset `train_auto_numeric.csv` into a pandas DataFrame called `auto_numeric`. Display the number of data points and attributes in the dataset."
   ]
  },
  {
   "cell_type": "code",
   "execution_count": 2,
   "metadata": {
    "collapsed": true
   },
   "outputs": [],
   "source": [
    "# Your code goes here\n",
    "auto_numeric = pd.read_csv('datasets/train_auto_numeric.csv')"
   ]
  },
  {
   "cell_type": "markdown",
   "metadata": {},
   "source": [
    "<font color='red'>TASK MARK: 1</font>\n",
    "<br>\n",
    "<font color='green'>COMMENT: -</font>"
   ]
  },
  {
   "cell_type": "markdown",
   "metadata": {},
   "source": [
    "### ========== Question 1.2 --- [1 mark] ==========\n",
    "Display the first 8 instances of the dataset."
   ]
  },
  {
   "cell_type": "code",
   "execution_count": 3,
   "metadata": {
    "collapsed": false
   },
   "outputs": [
    {
     "data": {
      "text/html": [
       "<div>\n",
       "<style>\n",
       "    .dataframe thead tr:only-child th {\n",
       "        text-align: right;\n",
       "    }\n",
       "\n",
       "    .dataframe thead th {\n",
       "        text-align: left;\n",
       "    }\n",
       "\n",
       "    .dataframe tbody tr th {\n",
       "        vertical-align: top;\n",
       "    }\n",
       "</style>\n",
       "<table border=\"1\" class=\"dataframe\">\n",
       "  <thead>\n",
       "    <tr style=\"text-align: right;\">\n",
       "      <th></th>\n",
       "      <th>normalized-losses</th>\n",
       "      <th>wheel-base</th>\n",
       "      <th>length</th>\n",
       "      <th>width</th>\n",
       "      <th>height</th>\n",
       "      <th>engine-size</th>\n",
       "      <th>bore</th>\n",
       "      <th>stroke</th>\n",
       "      <th>compression-ratio</th>\n",
       "      <th>engine-power</th>\n",
       "      <th>peak-rpm</th>\n",
       "      <th>city-mpg</th>\n",
       "      <th>highway-mpg</th>\n",
       "      <th>mean-effective-pressure</th>\n",
       "      <th>torque</th>\n",
       "      <th>price</th>\n",
       "    </tr>\n",
       "  </thead>\n",
       "  <tbody>\n",
       "    <tr>\n",
       "      <th>0</th>\n",
       "      <td>164.0</td>\n",
       "      <td>99.8</td>\n",
       "      <td>176.6</td>\n",
       "      <td>66.2</td>\n",
       "      <td>54.3</td>\n",
       "      <td>8.85</td>\n",
       "      <td>3.19</td>\n",
       "      <td>3.40</td>\n",
       "      <td>10.0</td>\n",
       "      <td>102000.0</td>\n",
       "      <td>5500.0</td>\n",
       "      <td>24.0</td>\n",
       "      <td>30.0</td>\n",
       "      <td>40.52</td>\n",
       "      <td>57.68</td>\n",
       "      <td>13950.0</td>\n",
       "    </tr>\n",
       "    <tr>\n",
       "      <th>1</th>\n",
       "      <td>110.0</td>\n",
       "      <td>99.4</td>\n",
       "      <td>162.4</td>\n",
       "      <td>66.4</td>\n",
       "      <td>54.3</td>\n",
       "      <td>15.18</td>\n",
       "      <td>3.19</td>\n",
       "      <td>3.40</td>\n",
       "      <td>8.0</td>\n",
       "      <td>115000.0</td>\n",
       "      <td>5500.0</td>\n",
       "      <td>18.0</td>\n",
       "      <td>22.0</td>\n",
       "      <td>47.39</td>\n",
       "      <td>59.59</td>\n",
       "      <td>17450.0</td>\n",
       "    </tr>\n",
       "    <tr>\n",
       "      <th>2</th>\n",
       "      <td>158.0</td>\n",
       "      <td>105.8</td>\n",
       "      <td>192.7</td>\n",
       "      <td>71.4</td>\n",
       "      <td>51.6</td>\n",
       "      <td>15.18</td>\n",
       "      <td>3.94</td>\n",
       "      <td>2.80</td>\n",
       "      <td>8.5</td>\n",
       "      <td>70000.0</td>\n",
       "      <td>4400.0</td>\n",
       "      <td>28.0</td>\n",
       "      <td>30.0</td>\n",
       "      <td>0.85</td>\n",
       "      <td>3344.79</td>\n",
       "      <td>17710.0</td>\n",
       "    </tr>\n",
       "    <tr>\n",
       "      <th>3</th>\n",
       "      <td>106.0</td>\n",
       "      <td>86.6</td>\n",
       "      <td>158.7</td>\n",
       "      <td>67.7</td>\n",
       "      <td>55.9</td>\n",
       "      <td>13.74</td>\n",
       "      <td>3.13</td>\n",
       "      <td>3.50</td>\n",
       "      <td>7.8</td>\n",
       "      <td>140000.0</td>\n",
       "      <td>5600.0</td>\n",
       "      <td>32.0</td>\n",
       "      <td>20.0</td>\n",
       "      <td>44.74</td>\n",
       "      <td>68.97</td>\n",
       "      <td>23875.0</td>\n",
       "    </tr>\n",
       "    <tr>\n",
       "      <th>4</th>\n",
       "      <td>192.0</td>\n",
       "      <td>101.2</td>\n",
       "      <td>176.8</td>\n",
       "      <td>64.8</td>\n",
       "      <td>54.3</td>\n",
       "      <td>8.67</td>\n",
       "      <td>3.50</td>\n",
       "      <td>2.80</td>\n",
       "      <td>8.8</td>\n",
       "      <td>101000.0</td>\n",
       "      <td>5800.0</td>\n",
       "      <td>23.0</td>\n",
       "      <td>29.0</td>\n",
       "      <td>44.78</td>\n",
       "      <td>53.48</td>\n",
       "      <td>16430.0</td>\n",
       "    </tr>\n",
       "    <tr>\n",
       "      <th>5</th>\n",
       "      <td>194.0</td>\n",
       "      <td>110.0</td>\n",
       "      <td>190.9</td>\n",
       "      <td>71.4</td>\n",
       "      <td>58.7</td>\n",
       "      <td>8.67</td>\n",
       "      <td>3.78</td>\n",
       "      <td>3.90</td>\n",
       "      <td>22.5</td>\n",
       "      <td>101000.0</td>\n",
       "      <td>6000.0</td>\n",
       "      <td>47.0</td>\n",
       "      <td>53.0</td>\n",
       "      <td>1.80</td>\n",
       "      <td>1330.28</td>\n",
       "      <td>16925.0</td>\n",
       "    </tr>\n",
       "    <tr>\n",
       "      <th>6</th>\n",
       "      <td>188.0</td>\n",
       "      <td>101.2</td>\n",
       "      <td>176.8</td>\n",
       "      <td>64.8</td>\n",
       "      <td>54.3</td>\n",
       "      <td>26.58</td>\n",
       "      <td>3.31</td>\n",
       "      <td>3.19</td>\n",
       "      <td>9.0</td>\n",
       "      <td>121000.0</td>\n",
       "      <td>4250.0</td>\n",
       "      <td>21.0</td>\n",
       "      <td>28.0</td>\n",
       "      <td>7.19</td>\n",
       "      <td>377.06</td>\n",
       "      <td>20970.0</td>\n",
       "    </tr>\n",
       "    <tr>\n",
       "      <th>7</th>\n",
       "      <td>150.0</td>\n",
       "      <td>101.2</td>\n",
       "      <td>176.8</td>\n",
       "      <td>64.8</td>\n",
       "      <td>56.1</td>\n",
       "      <td>26.58</td>\n",
       "      <td>3.03</td>\n",
       "      <td>3.19</td>\n",
       "      <td>8.0</td>\n",
       "      <td>134000.0</td>\n",
       "      <td>4400.0</td>\n",
       "      <td>28.0</td>\n",
       "      <td>37.0</td>\n",
       "      <td>57.37</td>\n",
       "      <td>48.20</td>\n",
       "      <td>21105.0</td>\n",
       "    </tr>\n",
       "  </tbody>\n",
       "</table>\n",
       "</div>"
      ],
      "text/plain": [
       "   normalized-losses  wheel-base  length  width  height  engine-size  bore  \\\n",
       "0              164.0        99.8   176.6   66.2    54.3         8.85  3.19   \n",
       "1              110.0        99.4   162.4   66.4    54.3        15.18  3.19   \n",
       "2              158.0       105.8   192.7   71.4    51.6        15.18  3.94   \n",
       "3              106.0        86.6   158.7   67.7    55.9        13.74  3.13   \n",
       "4              192.0       101.2   176.8   64.8    54.3         8.67  3.50   \n",
       "5              194.0       110.0   190.9   71.4    58.7         8.67  3.78   \n",
       "6              188.0       101.2   176.8   64.8    54.3        26.58  3.31   \n",
       "7              150.0       101.2   176.8   64.8    56.1        26.58  3.03   \n",
       "\n",
       "   stroke  compression-ratio  engine-power  peak-rpm  city-mpg  highway-mpg  \\\n",
       "0    3.40               10.0      102000.0    5500.0      24.0         30.0   \n",
       "1    3.40                8.0      115000.0    5500.0      18.0         22.0   \n",
       "2    2.80                8.5       70000.0    4400.0      28.0         30.0   \n",
       "3    3.50                7.8      140000.0    5600.0      32.0         20.0   \n",
       "4    2.80                8.8      101000.0    5800.0      23.0         29.0   \n",
       "5    3.90               22.5      101000.0    6000.0      47.0         53.0   \n",
       "6    3.19                9.0      121000.0    4250.0      21.0         28.0   \n",
       "7    3.19                8.0      134000.0    4400.0      28.0         37.0   \n",
       "\n",
       "   mean-effective-pressure   torque    price  \n",
       "0                    40.52    57.68  13950.0  \n",
       "1                    47.39    59.59  17450.0  \n",
       "2                     0.85  3344.79  17710.0  \n",
       "3                    44.74    68.97  23875.0  \n",
       "4                    44.78    53.48  16430.0  \n",
       "5                     1.80  1330.28  16925.0  \n",
       "6                     7.19   377.06  20970.0  \n",
       "7                    57.37    48.20  21105.0  "
      ]
     },
     "execution_count": 3,
     "metadata": {},
     "output_type": "execute_result"
    }
   ],
   "source": [
    "# Your code goes here\n",
    "auto_numeric.head(8)"
   ]
  },
  {
   "cell_type": "markdown",
   "metadata": {},
   "source": [
    "<font color='red'>TASK MARK: 1</font>\n",
    "<br>\n",
    "<font color='green'>COMMENT: -</font>"
   ]
  },
  {
   "cell_type": "markdown",
   "metadata": {},
   "source": [
    "### ========== Question 1.3 --- [1 mark] ==========\n",
    "Display the summary statistics for the dataset."
   ]
  },
  {
   "cell_type": "code",
   "execution_count": 4,
   "metadata": {
    "collapsed": false,
    "scrolled": true
   },
   "outputs": [
    {
     "name": "stdout",
     "output_type": "stream",
     "text": [
      "       normalized-losses  wheel-base      length       width      height  \\\n",
      "count         159.000000  159.000000  159.000000  159.000000  159.000000   \n",
      "mean          121.955975   98.559748  171.698113   65.729560   53.925157   \n",
      "std            39.434186    5.803361   12.656791    2.292021    2.410446   \n",
      "min            65.000000   86.600000  141.100000   60.300000   49.400000   \n",
      "25%            93.000000   94.500000  163.400000   64.000000   52.000000   \n",
      "50%           110.000000   97.000000  171.700000   65.400000   54.100000   \n",
      "75%           145.000000  101.200000  177.800000   66.500000   55.600000   \n",
      "max           256.000000  115.600000  202.600000   71.700000   59.800000   \n",
      "\n",
      "       engine-size        bore      stroke  compression-ratio   engine-power  \\\n",
      "count   159.000000  159.000000  159.000000         159.000000     159.000000   \n",
      "mean     14.056352    3.294528    3.219874          10.446855   98528.301887   \n",
      "std      17.143568    0.296959    0.381833           4.414796   34123.715967   \n",
      "min       3.390000    2.540000    2.070000           7.000000   48000.000000   \n",
      "25%       6.960000    3.050000    3.070000           8.600000   69000.000000   \n",
      "50%       9.030000    3.270000    3.270000           9.000000   92000.000000   \n",
      "75%      14.885000    3.580000    3.410000           9.400000  116000.000000   \n",
      "max     174.160000    3.940000    4.170000          23.000000  200000.000000   \n",
      "\n",
      "          peak-rpm    city-mpg  highway-mpg  mean-effective-pressure  \\\n",
      "count   159.000000  159.000000   159.000000               159.000000   \n",
      "mean   5072.012579   27.113208    32.327044                46.180503   \n",
      "std     549.988239    7.848229     8.231998                28.780966   \n",
      "min    4150.000000   15.000000    18.000000                 0.490000   \n",
      "25%    4800.000000   22.000000    26.500000                21.775000   \n",
      "50%    5100.000000   26.000000    32.000000                49.800000   \n",
      "75%    5450.000000   31.000000    37.000000                68.495000   \n",
      "max    6600.000000   49.000000    54.000000                99.850000   \n",
      "\n",
      "            torque         price  \n",
      "count   159.000000    159.000000  \n",
      "mean    200.055031  11684.723270  \n",
      "std     513.289289   6744.910579  \n",
      "min      19.400000   5118.000000  \n",
      "25%      34.140000   7372.000000  \n",
      "50%      55.900000   9233.000000  \n",
      "75%     119.990000  14719.500000  \n",
      "max    3912.870000  42056.000000  \n"
     ]
    }
   ],
   "source": [
    "# Your code goes here\n",
    "# print(auto_numeric.info)\n",
    "print(auto_numeric.describe())"
   ]
  },
  {
   "cell_type": "markdown",
   "metadata": {},
   "source": [
    "<font color='red'>TASK MARK: 1</font>\n",
    "<br>\n",
    "<font color='green'>COMMENT: -</font>"
   ]
  },
  {
   "cell_type": "markdown",
   "metadata": {},
   "source": [
    "### ========== Question 1.4 --- [2 marks] ==========\n",
    "Produce a scatter plot of `price` against `engine-power`. Label axes appropriately and include a title in your plot."
   ]
  },
  {
   "cell_type": "code",
   "execution_count": 5,
   "metadata": {
    "collapsed": false
   },
   "outputs": [
    {
     "data": {
      "image/png": "[encoded data removed]",
      "text/plain": [
       "<matplotlib.figure.Figure at 0x11a5b4ba8>"
      ]
     },
     "metadata": {},
     "output_type": "display_data"
    }
   ],
   "source": [
    "# Your code goes here\n",
    "g = sns.pairplot(auto_numeric, size=7, x_vars = [\"price\"], y_vars = [\"engine-power\"])"
   ]
  },
  {
   "cell_type": "markdown",
   "metadata": {},
   "source": [
    "<font color='red'>TASK MARK: 2</font>\n",
    "<br>\n",
    "<font color='green'>COMMENT: -</font>"
   ]
  },
  {
   "cell_type": "markdown",
   "metadata": {},
   "source": [
    "### ========== Question 1.5 --- [2 marks] ==========\n",
    "Do you think that engine-power alone is sufficient for predicting the price? Can you make any other observations on the data from the above plot? Please explain your answer in 2-3 sentences. "
   ]
  },
  {
   "cell_type": "markdown",
   "metadata": {},
   "source": [
    "*Your answer goes here*\n",
    "#### Answer:\n",
    "No, engine-power and price has very blurry correlation, which could not be used for regression. Also we could see more outliers if we visually fit a linear curve with the graph. As we have seen in theory that linear regression is much sensitive to outliers, we should definitely get rid of the outliers. Multiple attributes might help in framing the regression."
   ]
  },
  {
   "cell_type": "markdown",
   "metadata": {},
   "source": [
    "<font color='red'>TASK MARK: 2</font>\n",
    "<br>\n",
    "<font color='green'>COMMENT: -</font>"
   ]
  },
  {
   "cell_type": "markdown",
   "metadata": {},
   "source": [
    "### ========== Question 1.6 --- [2 marks] ==========\n",
    "Visualise the distribution of the car prices. Choose a sensible value for the number of bins in the histogram. Again, label axes appropriately and include a title in your plot."
   ]
  },
  {
   "cell_type": "code",
   "execution_count": 6,
   "metadata": {
    "collapsed": false,
    "scrolled": false
   },
   "outputs": [
    {
     "data": {
      "image/png": "[encoded data removed]",
      "text/plain": [
       "<matplotlib.figure.Figure at 0x11d96b7b8>"
      ]
     },
     "metadata": {},
     "output_type": "display_data"
    }
   ],
   "source": [
    "# Your code goes here\n",
    "prices = auto_numeric['price'].copy(deep=True)\n",
    "plt.hist(prices, range=[min(prices), max(prices)])\n",
    "plt.show()\n",
    "# plt.hist(prices, range=[0, max(prices)])"
   ]
  },
  {
   "cell_type": "markdown",
   "metadata": {},
   "source": [
    "<font color='red'>TASK MARK: 2</font>\n",
    "<br>\n",
    "<font color='green'>COMMENT: -</font>"
   ]
  },
  {
   "cell_type": "markdown",
   "metadata": {},
   "source": [
    "### ========== Question 1.7 --- [2 marks] ==========\n",
    "How could you preprocess the data to improve the performance of linear regression? Don’t do it at this stage, but instead in one sentence explain why you would do what you suggested."
   ]
  },
  {
   "cell_type": "markdown",
   "metadata": {},
   "source": [
    "*Your answer goes here*\n",
    "#### Answer:\n",
    "\n",
    "In the previous pairplot between price and engine-power, the correlation seems to get out of sync as we progress thrugh the price after 25000. Additionaly, there are fewer counts of autos that cost more than 25000. So it should be fine to consider these outliers and remove those.\n",
    "\n",
    "Considering this a Guassian, we can perform a 95% confidence interval to find the datapoints those are close to the mean, which means they are regular annd any datapoints out of the interval will be considered outliers and removed. Alternatively, we can split the datapoints by inter quartile regions and select the ones between Q1 and Q3."
   ]
  },
  {
   "cell_type": "markdown",
   "metadata": {},
   "source": [
    "<font color='red'>TASK MARK: 0</font>\n",
    "<br>\n",
    "<font color='green'>COMMENT: -</font>"
   ]
  },
  {
   "cell_type": "markdown",
   "metadata": {},
   "source": [
    "### ========== Question 1.8 --- [1 mark] ==========\n",
    "Now we want to build a simple linear regression model. First we need to define our input and target variables. Store the values of the attribute `engine-power` in a vector `X` and the values of our target variable `price` in a vector `y`."
   ]
  },
  {
   "cell_type": "code",
   "execution_count": 7,
   "metadata": {
    "collapsed": true
   },
   "outputs": [],
   "source": [
    "# Your code goes here\n",
    "x = auto_numeric['engine-power']\n",
    "y = auto_numeric['price']"
   ]
  },
  {
   "cell_type": "markdown",
   "metadata": {},
   "source": [
    "<font color='red'>TASK MARK: 1</font>\n",
    "<br>\n",
    "<font color='green'>COMMENT: -</font>"
   ]
  },
  {
   "cell_type": "markdown",
   "metadata": {},
   "source": [
    "### ========== Question 1.9 --- [1 mark] ==========\n",
    "For technical reasons, we need to convert `X` into a 2D array, otherwise we will receive an error when trying to use it for building models. Perform this transformation and confirm that the shape of the resulting array is (`n`,1) where `n` is the number of instances in the dataset. "
   ]
  },
  {
   "cell_type": "code",
   "execution_count": 8,
   "metadata": {
    "collapsed": false
   },
   "outputs": [
    {
     "data": {
      "text/plain": [
       "(159, 1)"
      ]
     },
     "execution_count": 8,
     "metadata": {},
     "output_type": "execute_result"
    }
   ],
   "source": [
    "# Your code goes here\n",
    "x = x.values.reshape(x.shape[0], 1)\n",
    "x.shape"
   ]
  },
  {
   "cell_type": "markdown",
   "metadata": {},
   "source": [
    "<font color='red'>TASK MARK: 1</font>\n",
    "<br>\n",
    "<font color='green'>COMMENT: -</font>"
   ]
  },
  {
   "cell_type": "markdown",
   "metadata": {},
   "source": [
    "### ========== Question 1.10 --- [1 mark] ==========\n",
    "Now we want to use Hold-out validation to split the dataset into training and testing subsets. Use 80% of the data for training and the remaining 20% for testing. Store your data into matrices `X_train`, `X_test`, `y_train`, `y_test`."
   ]
  },
  {
   "cell_type": "code",
   "execution_count": 9,
   "metadata": {
    "collapsed": true
   },
   "outputs": [],
   "source": [
    "# Your code goes here\n",
    "train_count = int(x.shape[0]*0.8)\n",
    "X_train = x[0:train_count+1]\n",
    "X_test = x[train_count+1: x.shape[0]+1]\n",
    "y_train = y[0:train_count+1]\n",
    "y_test = y[train_count+1: x.shape[0]+1]\n",
    "# print(X_train.shape)\n",
    "# print(X_test.shape)\n",
    "# print(y_train.shape)\n",
    "# print(y_test.shape)"
   ]
  },
  {
   "cell_type": "markdown",
   "metadata": {},
   "source": [
    "<font color='red'>TASK MARK: 1</font>\n",
    "<br>\n",
    "<font color='green'>COMMENT: -</font>"
   ]
  },
  {
   "cell_type": "markdown",
   "metadata": {},
   "source": [
    "### ========== Question 1.11 --- [2 marks] ==========\n",
    "By using Scikit-learn's [`LinearRegression`](http://scikit-learn.org/stable/modules/generated/sklearn.linear_model.LinearRegression.html) fit a model to the training data. When initialising the model, set the `normalize` parameter to `True` and use default settings for the other parameters."
   ]
  },
  {
   "cell_type": "code",
   "execution_count": 10,
   "metadata": {
    "collapsed": false
   },
   "outputs": [
    {
     "data": {
      "text/plain": [
       "LinearRegression(copy_X=True, fit_intercept=True, n_jobs=1, normalize=True)"
      ]
     },
     "execution_count": 10,
     "metadata": {},
     "output_type": "execute_result"
    }
   ],
   "source": [
    "# Your code goes here\n",
    "model_lr = LinearRegression(normalize = True)\n",
    "model_lr.fit(X_train, y_train)"
   ]
  },
  {
   "cell_type": "markdown",
   "metadata": {},
   "source": [
    "<font color='red'>TASK MARK: 2</font>\n",
    "<br>\n",
    "<font color='green'>COMMENT: -</font>"
   ]
  },
  {
   "cell_type": "markdown",
   "metadata": {},
   "source": [
    "### ========== Question 1.12 --- [2 marks] ==========\n",
    "By looking into the attributes of your model, write down an equation for predicting the price of a car given the engine-power."
   ]
  },
  {
   "cell_type": "code",
   "execution_count": 11,
   "metadata": {
    "collapsed": false
   },
   "outputs": [
    {
     "name": "stdout",
     "output_type": "stream",
     "text": [
      "Price = (0.093644)*(engine-power) + (2289.855076)\n"
     ]
    }
   ],
   "source": [
    "# Your code goes here\n",
    "# As we are dealing with linear models, the LinearRegression model has few attributes like (wX + b), \n",
    "# where w = coefficient and b = intercept.\n",
    "coefficient = model_lr.coef_\n",
    "intercept = model_lr.intercept_\n",
    "print(\"Price = (%5f)*(engine-power) + (%5f)\" % (coefficient, intercept))"
   ]
  },
  {
   "cell_type": "markdown",
   "metadata": {},
   "source": [
    "<font color='red'>TASK MARK: 2</font>\n",
    "<br>\n",
    "<font color='green'>COMMENT: -</font>"
   ]
  },
  {
   "cell_type": "markdown",
   "metadata": {},
   "source": [
    "### ========== Question 1.13 --- [3 marks] ==========\n",
    "What happens to the price as one more unit of engine-power is added? By examining the magnitude of the regression coefficient is it possible to tell whether or not engine-power is an important influential variable on price? Explain your answer in 1-2 sentences."
   ]
  },
  {
   "cell_type": "markdown",
   "metadata": {},
   "source": [
    "*Your answer goes here*\n",
    "#### Answer:\n",
    "We see that 'price' and 'engine-power' are positively correlated. Having that said, the regression coefficient seems to be very less (0.1). Higher the coefficient, the more the impact the variable has on the output. Also it depends on the value of the amount of unit of 'engine-power'. To illustrate, lets take an example of an outlier, whose value should be higher.\n",
    "\n",
    "In summary, the model might depend on two factors:\n",
    "1. If the coefficient is high, which is NOT in our case.\n",
    "2. If there is an outlier found. Higher values might change the coeffiecient of the LinearRegression model.\n",
    "\n",
    "In general, normal datapoints do NOT have much influence on the model."
   ]
  },
  {
   "cell_type": "markdown",
   "metadata": {},
   "source": [
    "<font color='red'>TASK MARK: 2</font>\n",
    "<br>\n",
    "<font color='green'>COMMENT: -</font>"
   ]
  },
  {
   "cell_type": "markdown",
   "metadata": {},
   "source": [
    "### ========== Question 1.14 --- [2 marks] ==========\n",
    "Produce a scatter plot similar to the one in Question 1.4 but use training data only this time. Add the regression line to the plot and show the predictions on the training set by using a different marker. Label axes appropriately and add a title to the graph. "
   ]
  },
  {
   "cell_type": "code",
   "execution_count": 12,
   "metadata": {
    "collapsed": false
   },
   "outputs": [
    {
     "data": {
      "text/plain": [
       "<function matplotlib.pyplot.show>"
      ]
     },
     "execution_count": 12,
     "metadata": {},
     "output_type": "execute_result"
    },
    {
     "data": {
      "image/png": "[encoded data removed]",
      "text/plain": [
       "<matplotlib.figure.Figure at 0x11db019e8>"
      ]
     },
     "metadata": {},
     "output_type": "display_data"
    }
   ],
   "source": [
    "# Your code goes here\n",
    "plt.scatter(X_train, y_train)\n",
    "plt.plot(X_train, model_lr.predict(X_train), label = 'regression curve')\n",
    "plt.title(\"Scatter plot\")\n",
    "plt.xlabel(\"engine-power\")\n",
    "plt.ylabel(\"Price\")\n",
    "plt.show"
   ]
  },
  {
   "cell_type": "markdown",
   "metadata": {},
   "source": [
    "<font color='red'>TASK MARK: 2</font>\n",
    "<br>\n",
    "<font color='green'>COMMENT: -</font>"
   ]
  },
  {
   "cell_type": "markdown",
   "metadata": {},
   "source": [
    "### ========== Question 1.15 --- [2 marks] ==========\n",
    "So far we have used Hold-out validation. Can you think of a disadvantage of using this method, especially when dealing with small datasets?"
   ]
  },
  {
   "cell_type": "markdown",
   "metadata": {},
   "source": [
    "*Your answer goes here*\n",
    "#### Answer:\n",
    "These models could be disadvantageous for the following reasons:\n",
    "1. If we are dealing with small datasets, then the model might overfit the the training data so much and that would give wrong results.\n",
    "2. If the order of the datapoints are in some sort of order of certain attributes and if the relationship between the attributes and the output tend to change further. We might end up truncating such datapoints and use them for testing (development set). We can overcome this by stratified datasets.\n",
    "3. Lesser the number of normal data points (nearer to the mean), less sensitive to the outliers."
   ]
  },
  {
   "cell_type": "markdown",
   "metadata": {},
   "source": [
    "<font color='red'>TASK MARK: 2</font>\n",
    "<br>\n",
    "<font color='green'>COMMENT: -</font>"
   ]
  },
  {
   "cell_type": "markdown",
   "metadata": {},
   "source": [
    "### ========== Question 1.16 --- [1 mark] ==========\n",
    "Now we want to use k-fold cross-validation to evaluate the performance of the regression model. Famliriase yourself with the sklearn method [`KFold`](http://scikit-learn.org/stable/modules/generated/sklearn.model_selection.KFold.html) and make sure you understand the differences between Hold-out and K-fold cross-validation. By using Scikit-learn's [`KFold`](http://scikit-learn.org/stable/modules/generated/sklearn.model_selection.KFold.html) class construct a 5-fold cross-validation object. Set the `shuffle` parameter to `True` and `random_state` to `0`. Use the object to print the training and validation indices for the `auto_numeric` dataset (hint: see the `split` method)."
   ]
  },
  {
   "cell_type": "code",
   "execution_count": 13,
   "metadata": {
    "collapsed": true
   },
   "outputs": [],
   "source": [
    "# Your code goes here\n",
    "kf = KFold(n_splits=5, shuffle = True, random_state = 0)\n",
    "# train_index, test_index = kf.split(x)\n",
    "# for train_index, test_index in kf.split(x):\n",
    "# #     print(\"TRAIN:\", train_index, \"TEST:\", test_index)\n",
    "#     X_train, X_test = x[train_index], x[test_index]\n",
    "#     y_train, y_test = y[train_index], y[test_index]"
   ]
  },
  {
   "cell_type": "markdown",
   "metadata": {},
   "source": [
    "<font color='red'>TASK MARK: 1</font>\n",
    "<br>\n",
    "<font color='green'>COMMENT: -</font>"
   ]
  },
  {
   "cell_type": "markdown",
   "metadata": {},
   "source": [
    "### ========== Question 1.17 --- [3 marks] ==========\n",
    "By making use of the iterator you constructed in the previous question, loop through the 5 folds and display the mean value of the `price` variable for the training instances in each fold."
   ]
  },
  {
   "cell_type": "code",
   "execution_count": 14,
   "metadata": {
    "collapsed": false
   },
   "outputs": [
    {
     "name": "stdout",
     "output_type": "stream",
     "text": [
      "11853.267717 - Mean of fold - 1\n",
      "11635.976378 - Mean of fold - 2\n",
      "11689.874016 - Mean of fold - 3\n",
      "11709.826772 - Mean of fold - 4\n",
      "11535.843750 - Mean of fold - 5\n"
     ]
    }
   ],
   "source": [
    "# Your code goes here\n",
    "fold_count = 1\n",
    "for train_index, test_index in kf.split(x):\n",
    "#     print(\"TRAIN:\", train_index, \"TEST:\", test_index)\n",
    "    X_train, X_test = x[train_index], x[test_index]\n",
    "    y_train, y_test = y[train_index], y[test_index]\n",
    "    print(\"%f - Mean of fold - %d\" % (y_train.mean(), fold_count))\n",
    "    fold_count += 1"
   ]
  },
  {
   "cell_type": "markdown",
   "metadata": {},
   "source": [
    "<font color='red'>TASK MARK: 3</font>\n",
    "<br>\n",
    "<font color='green'>COMMENT: -</font>"
   ]
  },
  {
   "cell_type": "markdown",
   "metadata": {},
   "source": [
    "### ========== Question 1.18 --- [3 marks] ==========\n",
    "Now initialise a new `LinearRegression` model and fit it by making use of the cross-validation iterator, the `X` and `y` arrays defined above and the [`cross_val_predict`](http://scikit-learn.org/stable/modules/generated/sklearn.model_selection.cross_val_predict.html) function. Display the shape of your prediction and confirm it has the same dimensionality as your `y` vector."
   ]
  },
  {
   "cell_type": "code",
   "execution_count": 15,
   "metadata": {
    "collapsed": false
   },
   "outputs": [
    {
     "name": "stdout",
     "output_type": "stream",
     "text": [
      "Predicted Y vector shape:  (31,)\n",
      "Held out Y vector shape:  (31,)\n"
     ]
    }
   ],
   "source": [
    "# Your code goes here\n",
    "model_lr_1 = LinearRegression(normalize = True)\n",
    "model_lr_1.fit(X_train, y_train)\n",
    "y_pred = cross_val_predict(model_lr_1, X_test, y_test, cv = kf)\n",
    "assert y_test.shape == y_pred.shape\n",
    "print(\"Predicted Y vector shape: \" , (y_pred.shape))\n",
    "print(\"Held out Y vector shape: \" , (y_test.shape))\n",
    "\n"
   ]
  },
  {
   "cell_type": "markdown",
   "metadata": {},
   "source": [
    "<font color='red'>TASK MARK: 3</font>\n",
    "<br>\n",
    "<font color='green'>COMMENT: -</font>"
   ]
  },
  {
   "cell_type": "markdown",
   "metadata": {},
   "source": [
    "### ========== Question 1.19 --- [2 marks] ==========\n",
    "Report the Coefficient of Determination (R^2), Root Mean Squared Error (RMSE), Mean Absolute Error (MAE) and Correlation Coefficient (CC) from the simple linear regression model you build in Question 1.18. *Hint: RMSE is the square root of the Mean Squared Error (MSE). For CC you might find numpy's [`corrcoef`](http://docs.scipy.org/doc/numpy/reference/generated/numpy.corrcoef.html) function useful.* "
   ]
  },
  {
   "cell_type": "code",
   "execution_count": 16,
   "metadata": {
    "collapsed": false
   },
   "outputs": [
    {
     "name": "stdout",
     "output_type": "stream",
     "text": [
      "Coefficient of Determination:\t  0.178491660811\n",
      "Coefficient of Determination:\t  -0.231257912767\n",
      "Root Mean Squared Error:\t  8738.27328864\n",
      "Mean Absolute Error:\t\t  5190.13883824\n",
      "Correlation Coefficient:\t  0.0750991294155\n",
      "Median Absolute error:\t\t  2842.47625515\n"
     ]
    }
   ],
   "source": [
    "# Your code goes here\n",
    "from sklearn.metrics import median_absolute_error\n",
    "print(\"Coefficient of Determination:\\t \" ,model_lr_1.score(X_test, y_test)) # from the model\n",
    "print(\"Coefficient of Determination:\\t \" ,r2_score(y_test, y_pred, multioutput='variance_weighted')) # from the values\n",
    "print(\"Root Mean Squared Error:\\t \" ,pow(mean_squared_error(y_test, y_pred), 0.5))\n",
    "print(\"Mean Absolute Error:\\t\\t \" ,mean_absolute_error(y_test, y_pred))\n",
    "print(\"Correlation Coefficient:\\t \" ,np.corrcoef(y_test, y_pred)[1][0]) # [0][1]\n",
    "\n",
    "print(\"Median Absolute error:\\t\\t \" ,median_absolute_error(y_test, y_pred))"
   ]
  },
  {
   "cell_type": "markdown",
   "metadata": {},
   "source": [
    "<font color='red'>TASK MARK: 2</font>\n",
    "<br>\n",
    "<font color='green'>COMMENT: -</font>"
   ]
  },
  {
   "cell_type": "markdown",
   "metadata": {},
   "source": [
    "### ========== Question 1.20 --- [4 marks] ==========\n",
    "What do the above metrics intend to measure? Relate the values of CC, MAE and RMSE to the observations you made in Question 1.5. Explain your answer in 1-2 short paragraphs."
   ]
  },
  {
   "cell_type": "markdown",
   "metadata": {},
   "source": [
    "*Your answer goes here*\n",
    "#### Answer:\n",
    "ROCs cannot help us rank different models in case of regression. So, we are relying on regression metrics like Correlation coefficient, mean absolute and squared error. Correlation coefficient as the name states it checks for the correlation between the predicted output values and validation set values. There is a positive correlation which means they are predicted but not exactly correct. For an ideal model, the correlation coefficient would be exactly 1.0. But we have a 0.075. The model could be underfitted by the outliers.\n",
    "\n",
    "As it should be the mean squared error is higher than the mean absolute error. The reason is we have few outliers. Annd root mean squared error is more sensitive (as they square the error function) to outliers than mean absolute errors do. This difference also confirms us that the poor performance of the model is because of the outliers. The errors seem to be higher. Also relative mean absolute errors are usually insensitive to the outliers as they pivot the metric with relative mean. Additionally, median absolute error gives a scaled down value but this does nnot hold much for our model as we are dealing with regression. We need a metric which can be differentiable to handle continous data."
   ]
  },
  {
   "cell_type": "markdown",
   "metadata": {},
   "source": [
    "<font color='red'>TASK MARK: 2</font>\n",
    "<br>\n",
    "<font color='green'>COMMENT: -</font>"
   ]
  },
  {
   "cell_type": "markdown",
   "metadata": {},
   "source": [
    "### ========== Question 1.21 --- [3 marks] ==========\n",
    "Show a histogram of the residuals of the linear regression model (i.e. true - predicted values). Label axes appropriately and add a title to your plot. Does the distribution of residuals look like what you expected?"
   ]
  },
  {
   "cell_type": "code",
   "execution_count": 17,
   "metadata": {
    "collapsed": false
   },
   "outputs": [
    {
     "data": {
      "text/plain": [
       "<function matplotlib.pyplot.show>"
      ]
     },
     "execution_count": 17,
     "metadata": {},
     "output_type": "execute_result"
    },
    {
     "data": {
      "image/png": "[encoded data removed]",
      "text/plain": [
       "<matplotlib.figure.Figure at 0x11dd8f588>"
      ]
     },
     "metadata": {},
     "output_type": "display_data"
    }
   ],
   "source": [
    "# Your code goes here\n",
    "plt.hist(np.absolute(y_test - y_pred))\n",
    "plt.title(\"Residuals of the modelled linear regression\")\n",
    "plt.xlabel(\"Absolute differences of predicted and validated test(price) data\")\n",
    "plt.ylabel(\"No. of times occurred\")\n",
    "plt.show"
   ]
  },
  {
   "cell_type": "markdown",
   "metadata": {},
   "source": [
    "<font color='red'>TASK MARK: 1</font>\n",
    "<br>\n",
    "<font color='green'>COMMENT: -</font>"
   ]
  },
  {
   "cell_type": "markdown",
   "metadata": {},
   "source": [
    "*Your answer goes here*\n",
    "#### Answer:\n",
    "Yes. There are a lot of correctly predicted values (i.e., bins with lesser absolute differences). As expected there are a few outlier with uch difference, which might have completely conntributed to the mean squared and absolute differences. We can also vaguely estimate the number of outlier from this histogram, we can arbitrarily set a threshold of 10000 as the absolute difference and can eliminnate any datapoints that exceed these limits. We have 4 such points. There are also many standard ways to remove outliers. We can also visualize the mean absolute error and mean squared error and the reason why mean squared error is higher than the mean absolute error."
   ]
  },
  {
   "cell_type": "markdown",
   "metadata": {},
   "source": [
    "### ========== Question 1.22 --- [2 marks] ==========\n",
    "Load the new dataset `train_auto_base.csv` into a pandas DataFrame `auto_base`. Again by using the `engine-power` attribute as predictor and `price` as target variable build a LinearRegression model on this dataset. Report the R^2, RMSE, MAE and CC metrics for this model by making use of the K-fold CV iterator constructed in Question 1.16."
   ]
  },
  {
   "cell_type": "code",
   "execution_count": 18,
   "metadata": {
    "collapsed": false
   },
   "outputs": [
    {
     "name": "stdout",
     "output_type": "stream",
     "text": [
      "Coefficient of Determination:\t  -0.0727601413636\n",
      "Root Mean Square Error:\t\t  6989.77146694\n",
      "Median Absolute error:\t\t  5190.13883824\n",
      "Correlation Coefficient:\t  0.0750991294155\n"
     ]
    }
   ],
   "source": [
    "# Your code goes here\n",
    "auto_base = pd.read_csv('datasets/train_auto_base.csv')\n",
    "# print(auto_base.info)\n",
    "# print(auto_base.describe)\n",
    "# print(auto_base.head(10))\n",
    "X_base = auto_base[\"engine-power\"]\n",
    "y_base = auto_base[\"price\"]\n",
    "model_lr_base = LinearRegression(normalize = True)\n",
    "X_train_base, X_test_base, y_train_base, y_test_base = train_test_split(X_base, y_base, train_size = 0.8, test_size=0.2, random_state=0)\n",
    "X_train_base = X_train_base.values.reshape(X_train_base.shape[0], 1)\n",
    "X_test_base = X_test_base.values.reshape(X_test_base.shape[0], 1) ## Never ever forget to reshape to (n,1)\n",
    "kf_base = KFold(n_splits=5, shuffle = True, random_state = 0)\n",
    "y_pred_base = cross_val_predict(model_lr_base, X_test_base, y_test_base, cv=kf_base)\n",
    "\n",
    "cod = r2_score(y_test_base, y_pred_base, multioutput='variance_weighted')\n",
    "rms = mean_squared_error(y_test_base, y_pred_base) ** 0.5\n",
    "mae = mean_absolute_error(y_test, y_pred)\n",
    "cc = np.corrcoef(y_test, y_pred)[1][0] # [0][1]\n",
    "\n",
    "print(\"Coefficient of Determination:\\t \" ,cod)\n",
    "print(\"Root Mean Square Error:\\t\\t \" ,rms)\n",
    "print(\"Median Absolute error:\\t\\t \" ,mae)\n",
    "print(\"Correlation Coefficient:\\t \" ,cc)\n",
    "\n"
   ]
  },
  {
   "cell_type": "markdown",
   "metadata": {},
   "source": [
    "<font color='red'>TASK MARK: 2</font>\n",
    "<br>\n",
    "<font color='green'>COMMENT: -</font>"
   ]
  },
  {
   "cell_type": "markdown",
   "metadata": {},
   "source": [
    "### ========== Question 1.23 --- [2 marks] ==========\n",
    "Show a scatter plot of predicted vs. true prices and another one of predicted price vs. engine-power. Use a single plot with two subplots. Label axes appropriately."
   ]
  },
  {
   "cell_type": "code",
   "execution_count": 19,
   "metadata": {
    "collapsed": false,
    "scrolled": false
   },
   "outputs": [
    {
     "data": {
      "image/png": "[encoded data removed]",
      "text/plain": [
       "<matplotlib.figure.Figure at 0x11dba9cc0>"
      ]
     },
     "metadata": {},
     "output_type": "display_data"
    },
    {
     "data": {
      "text/plain": [
       "<matplotlib.figure.Figure at 0x11e254e10>"
      ]
     },
     "metadata": {},
     "output_type": "display_data"
    }
   ],
   "source": [
    "# Your code goes here\n",
    "# engine = X_train_base['engine-power']\n",
    "\n",
    "# Plot Histogram\n",
    "# plt.hist(X_train_base, range=[min(X_train_base), max(X_train_base)])\n",
    "# plt.title(\"Engine Size Histogram\")\n",
    "# plt.xlabel(\"Engine Size\")\n",
    "# plt.ylabel(\"Frequency\")\n",
    "\n",
    "f, (ax1, ax2) = plt.subplots(1, 2, sharey=True)\n",
    "plt.figure(figsize=(200,100))\n",
    "ax1.scatter(y_test_base, y_pred_base, c= \"red\")\n",
    "ax1.set_xlabel(\"test outputs\")\n",
    "ax1.set_title('test outputs vs predicted outputs')\n",
    "\n",
    "ax2.scatter(X_test_base, y_pred_base)\n",
    "ax2.set_title('engine power vs predicted outputs')\n",
    "ax2.set_xlabel(\"Enngine power\")\n",
    "f.set_figheight(10)\n",
    "f.set_figwidth(20)\n"
   ]
  },
  {
   "cell_type": "markdown",
   "metadata": {},
   "source": [
    "<font color='red'>TASK MARK: 2</font>\n",
    "<br>\n",
    "<font color='green'>COMMENT: -</font>"
   ]
  },
  {
   "cell_type": "markdown",
   "metadata": {},
   "source": [
    "### ========== Question 1.24 --- [3 marks] ==========\n",
    "What is the simplest baseline model for the purposes of regression? Relate your answer to the regression model you have just built as part of this question. Can the predictions of this model be justified given the procedure you followed to train it?"
   ]
  },
  {
   "cell_type": "markdown",
   "metadata": {},
   "source": [
    "*Your answer goes here*\n",
    "\n",
    "#### Answer:\n",
    "\n",
    "Linear regression is always the baseline model for doing a simple regression. As we have seen in the decision trees lecture, there are a few attributes which should not be used as the deciding attributes, except for engine power value 1, the dataset does not provide any other data. As the engine power is same for every different price value, engine-power attribute is the worst attribute, we could use for price prediction with linear regression.\n"
   ]
  },
  {
   "cell_type": "markdown",
   "metadata": {},
   "source": [
    "<font color='red'>TASK MARK: 0</font>\n",
    "<br>\n",
    "<font color='green'>COMMENT: -</font>"
   ]
  },
  {
   "cell_type": "markdown",
   "metadata": {},
   "source": [
    "### ========== Question 1.25 --- [2 marks] ==========\n",
    "Why do you think this model performs so poorly? (*Hint: Justify your answer by displaying some statistics about the `auto_base` dataset.*)"
   ]
  },
  {
   "cell_type": "code",
   "execution_count": 20,
   "metadata": {
    "collapsed": false
   },
   "outputs": [
    {
     "name": "stdout",
     "output_type": "stream",
     "text": [
      "Stats of the only attribute\n",
      "\n",
      "Mean of engine-power attribute:\t\t\t1.0\n",
      "Maximum value of engine-power attribute:\t1.0\n",
      "Minimum value of engine-power attribute:\t1.0\n",
      "Variance of engine-power attribute:\t\t0.0\n",
      "Standard deviation of engine-power attribute:\t0.0\n",
      "---------------------------------------------------\n",
      "Stats of the whole dataset\n",
      "\n",
      "       engine-power         price\n",
      "count         159.0    159.000000\n",
      "mean            1.0  11684.723270\n",
      "std             0.0   6744.910579\n",
      "min             1.0   5118.000000\n",
      "25%             1.0   7372.000000\n",
      "50%             1.0   9233.000000\n",
      "75%             1.0  14719.500000\n",
      "max             1.0  42056.000000\n"
     ]
    }
   ],
   "source": [
    "# Your code goes here\n",
    "print(\"Stats of the only attribute\\n\")\n",
    "print(\"Mean of engine-power attribute:\\t\\t\\t\"+ str(np.mean(auto_base[\"engine-power\"])))\n",
    "print(\"Maximum value of engine-power attribute:\\t\"+ str(np.max(auto_base[\"engine-power\"])))\n",
    "print(\"Minimum value of engine-power attribute:\\t\"+ str(np.min(auto_base[\"engine-power\"])))\n",
    "print(\"Variance of engine-power attribute:\\t\\t\"+ str(np.var(auto_base[\"engine-power\"])))\n",
    "print(\"Standard deviation of engine-power attribute:\\t\"+ str(np.std(auto_base[\"engine-power\"])))\n",
    "print(\"---------------------------------------------------\")\n",
    "print(\"Stats of the whole dataset\\n\")\n",
    "print(auto_base.describe())"
   ]
  },
  {
   "cell_type": "markdown",
   "metadata": {},
   "source": [
    "*Your answer goes here*\n",
    "#### Answer:\n",
    "\n",
    "The standard deviation (variance) is zero having mean as 1, which means the value of engine-power is same always (as we saw in the dataset). We have chosen the attribute poorly, that is the reason for the poor performance of the model. But there was no other option to choose a better attribute with a higher correlation (absolute, i.e., positive or negative) or a mix of attributes. engine-power attribute will not make any impact on the model even if it is mixed with multiple attributes in case of multivariate linear regression."
   ]
  },
  {
   "cell_type": "markdown",
   "metadata": {},
   "source": [
    "<font color='red'>TASK MARK: 2</font>\n",
    "<br>\n",
    "<font color='green'>COMMENT: -</font>"
   ]
  },
  {
   "cell_type": "markdown",
   "metadata": {},
   "source": [
    "## 2. Multivariate Linear Regression [50%]\n",
    "In this Section we will fit a Multivariate Linear Regression model (LinearRegression) to the dataset. In contrast to Part 1, we will now train a model with multiple explanatory variables and ascertain how they affect our ability to predict the retail price of a car. One of our foremost concerns will be to determine exactly which attributes to include in the model and which may be left out."
   ]
  },
  {
   "cell_type": "markdown",
   "metadata": {},
   "source": [
    "### ========== Question 2.1 --- [10 marks] ==========\n",
    "Use the original dataset (`auto_numeric`) and a visualisation tool of your choice to examine whether or not any of the other attributes are particularly good at predicting the price. Can you find any? Do any attributes appear useless at predicting the price? Do any attributes exhibit significant correlations? As you answer these questions, list two attributes for each question but do not modify the dataset at this stage. Of the attributes you listed, which ones could you safely remove? Explain in 4-5 sentences. *Hint: you might find seaborn's [`pairplot`](https://seaborn.github.io/generated/seaborn.pairplot.html?highlight=pairplot#seaborn.pairplot) function useful for this question.*"
   ]
  },
  {
   "cell_type": "code",
   "execution_count": 23,
   "metadata": {
    "collapsed": false,
    "scrolled": false
   },
   "outputs": [
    {
     "name": "stdout",
     "output_type": "stream",
     "text": [
      "Correlation between the attributes\n",
      "These are the top five highly correlated columns:\n",
      "wheel-base  wheel-base      1.000000\n",
      "            width           0.600716\n",
      "            engine-size     0.280880\n",
      "            stroke          0.352131\n",
      "            engine-power    0.333710\n",
      "dtype: float64\n",
      "Correlation visualization between attributes annd price attribute\n"
     ]
    },
    {
     "data": {
      "image/png": "[encoded data removed]",
      "text/plain": [
       "<matplotlib.figure.Figure at 0x11f296f28>"
      ]
     },
     "metadata": {},
     "output_type": "display_data"
    },
    {
     "data": {
      "image/png": "[encoded data removed]",
      "text/plain": [
       "<matplotlib.figure.Figure at 0x11f42e080>"
      ]
     },
     "metadata": {},
     "output_type": "display_data"
    },
    {
     "data": {
      "image/png": "[encoded data removed]",
      "text/plain": [
       "<matplotlib.figure.Figure at 0x11ecfae48>"
      ]
     },
     "metadata": {},
     "output_type": "display_data"
    },
    {
     "data": {
      "image/png": "[encoded data removed]",
      "text/plain": [
       "<matplotlib.figure.Figure at 0x11f331eb8>"
      ]
     },
     "metadata": {},
     "output_type": "display_data"
    },
    {
     "data": {
      "image/png": "[encoded data removed]",
      "text/plain": [
       "<matplotlib.figure.Figure at 0x11e271390>"
      ]
     },
     "metadata": {},
     "output_type": "display_data"
    },
    {
     "data": {
      "image/png": "[encoded data removed]",
      "text/plain": [
       "<matplotlib.figure.Figure at 0x11d9256a0>"
      ]
     },
     "metadata": {},
     "output_type": "display_data"
    },
    {
     "data": {
      "image/png": "[encoded data removed]",
      "text/plain": [
       "<matplotlib.figure.Figure at 0x11dbb0e10>"
      ]
     },
     "metadata": {},
     "output_type": "display_data"
    },
    {
     "data": {
      "image/png": "[encoded data removed]",
      "text/plain": [
       "<matplotlib.figure.Figure at 0x11d8ffe48>"
      ]
     },
     "metadata": {},
     "output_type": "display_data"
    },
    {
     "data": {
      "image/png": "[encoded data removed]",
      "text/plain": [
       "<matplotlib.figure.Figure at 0x120362b70>"
      ]
     },
     "metadata": {},
     "output_type": "display_data"
    },
    {
     "data": {
      "image/png": "[encoded data removed]",
      "text/plain": [
       "<matplotlib.figure.Figure at 0x11f20f5f8>"
      ]
     },
     "metadata": {},
     "output_type": "display_data"
    },
    {
     "data": {
      "image/png": "[encoded data removed]",
      "text/plain": [
       "<matplotlib.figure.Figure at 0x11f136eb8>"
      ]
     },
     "metadata": {},
     "output_type": "display_data"
    },
    {
     "data": {
      "image/png": "[encoded data removed]",
      "text/plain": [
       "<matplotlib.figure.Figure at 0x11e239da0>"
      ]
     },
     "metadata": {},
     "output_type": "display_data"
    },
    {
     "data": {
      "image/png": "[encoded data removed]",
      "text/plain": [
       "<matplotlib.figure.Figure at 0x11ddb7278>"
      ]
     },
     "metadata": {},
     "output_type": "display_data"
    },
    {
     "data": {
      "image/png": "[encoded data removed]",
      "text/plain": [
       "<matplotlib.figure.Figure at 0x11fe46c50>"
      ]
     },
     "metadata": {},
     "output_type": "display_data"
    },
    {
     "data": {
      "image/png": "[encoded data removed]",
      "text/plain": [
       "<matplotlib.figure.Figure at 0x11fd204a8>"
      ]
     },
     "metadata": {},
     "output_type": "display_data"
    }
   ],
   "source": [
    "# Your code goes here\n",
    "import heapq\n",
    "auto_numeric_columns = (list(auto_numeric.columns.values))\n",
    "for i in range(len(auto_numeric_columns)): # looping through the columns of dataframe\n",
    "    if i is not len(auto_numeric_columns)-1:\n",
    "        g = sns.pairplot(data=auto_numeric, x_vars=auto_numeric_columns[i], y_vars = \"price\", size = 5)\n",
    "print(\"Correlation between the attributes\")\n",
    "## Terrible strategy - uncommented owing to huge computation cost and did not work! ;)\n",
    "# auto_numeric_correlation_matrix = np.zeros((len(auto_numeric_columns),len(auto_numeric_columns)))\n",
    "# for i in range(0, len(auto_numeric_columns)):\n",
    "#         for j in range(0, len(auto_numeric_columns)):\n",
    "#             auto_numeric_correlation_matrix[i][j] = np.correlate(auto_numeric[i], auto_numeric[j])\n",
    "# print(auto_numeric_correlation_matrix)\n",
    "\n",
    "col_correlations = auto_numeric.corr().abs() ## We care about both negative annd positive correlations. Both could make the model stronger.\n",
    "# print(col_correlations) \n",
    "## Uncomment the previous line to see the correlation matrix\n",
    "s = col_correlations.unstack()\n",
    "ordered_correlations = s.sort_values(kind=\"quicksort\", ascending= False)\n",
    "print(\"These are the top five highly correlated columns:\")\n",
    "pruned_matrix = (s[len(auto_numeric_columns):len(auto_numeric_columns)+10])\n",
    "print(pruned_matrix[1::2])\n",
    "print(\"Correlation visualization between attributes annd price attribute\")\n",
    "## We are removing first 16 entries above as they are self correlated attribute values\n"
   ]
  },
  {
   "cell_type": "markdown",
   "metadata": {},
   "source": [
    "*Your answer goes here*\n",
    "## Answer:\n",
    "As the highly correlated columns table says:\n",
    "\n",
    "engine-size       ~       price       =       0.715125 <br>\n",
    "wheel-base       ~       length       =       0.681389 <br>\n",
    "city-mpg       ~       highway-mpg       =       0.641577 <br>\n",
    "width       ~       wheel-base       =       0.600716 <br>\n",
    "width       ~       length       =       0.569162 <br>\n",
    "\n",
    "These are top 5 highy correlated attributes and engine-sizes and price seem to have the highest correlation.\n",
    "Other attributes correlation value can also be checked from the table provide in the previous cell.\n",
    "\n",
    "None of a single attribute seems to be correlated with the price attribute uniformly throughout the data. This has been observed from the pairplots visualization.\n",
    "\n",
    "PS: tabs and table creation in jupyter markdown seemed time consuming, so kindly bare with the table format. Refer to the output(in the previous cell), if can't read"
   ]
  },
  {
   "cell_type": "markdown",
   "metadata": {},
   "source": [
    "<font color='red'>TASK MARK: 4</font>\n",
    "<br>\n",
    "<font color='green'>COMMENT: -</font>"
   ]
  },
  {
   "cell_type": "markdown",
   "metadata": {},
   "source": [
    "### ========== Question 2.2 --- [3 marks] ==========\n",
    "We will now make a first attempt at building a Multivariate Linear Regression model using all numeric attributes. Initialise a `LinearRegression` model and predict the output by using 5-fold cross-validation and the `cross_val_predict` function."
   ]
  },
  {
   "cell_type": "code",
   "execution_count": 24,
   "metadata": {
    "collapsed": true
   },
   "outputs": [],
   "source": [
    "# Your code goes here\n",
    "model_multi_lr = LinearRegression(normalize = True)\n",
    "X_multi = auto_numeric.copy()\n",
    "X_multi = X_multi.drop(\"price\", 1)\n",
    "# print(X_multi.columns.values)\n",
    "y_multi = auto_numeric[\"price\"]\n",
    "X_train_multi, X_test_multi, y_train_multi, y_test_multi = train_test_split(X_multi, y_multi, train_size = 0.8, test_size=0.2, random_state=0)\n",
    "## Reshaping is not necessary as we already have number of columns, numpy can understand this format\n",
    "kf_multi = KFold(n_splits=5, shuffle = True, random_state = 0)\n",
    "y_pred_multi = cross_val_predict(model_multi_lr, X_test_multi, y_test_multi, cv=kf_multi)"
   ]
  },
  {
   "cell_type": "markdown",
   "metadata": {},
   "source": [
    "<font color='red'>TASK MARK: 3</font>\n",
    "<br>\n",
    "<font color='green'>COMMENT: -</font>"
   ]
  },
  {
   "cell_type": "markdown",
   "metadata": {},
   "source": [
    "### ========== Question 2.3 --- [2 marks] ==========\n",
    "Display the Root Mean Squared Error (RMSE), Mean Absolute Error (MAE) and Correlation Coefficient (CC)."
   ]
  },
  {
   "cell_type": "code",
   "execution_count": 84,
   "metadata": {
    "collapsed": false
   },
   "outputs": [
    {
     "name": "stdout",
     "output_type": "stream",
     "text": [
      "Metric of the multivariate linear regression\n",
      "\n",
      "Coefficient of Determination:\t  0.560209843092\n",
      "Root Mean Square Error:\t\t  4475.4263513\n",
      "Median Absolute error:\t\t  3300.46496431\n",
      "Correlation Coefficient:\t  0.803776591668\n",
      "---------------------------------------------------------\n"
     ]
    }
   ],
   "source": [
    "# Your code goes here\n",
    "\n",
    "cod_multi = r2_score(y_test_multi, y_pred_multi, multioutput='variance_weighted')\n",
    "rms_multi = mean_squared_error(y_test_multi, y_pred_multi) ** 0.5\n",
    "mae_multi = mean_absolute_error(y_test_multi, y_pred_multi)\n",
    "cc_multi = np.corrcoef(y_test_multi, y_pred_multi)[1][0] # [0][1]\n",
    "print(\"Metric of the multivariate linear regression\\n\")\n",
    "print(\"Coefficient of Determination:\\t \" ,cod_multi) ## Not asked in the question\n",
    "print(\"Root Mean Square Error:\\t\\t \" ,rms_multi)\n",
    "print(\"Median Absolute error:\\t\\t \" ,mae_multi)\n",
    "print(\"Correlation Coefficient:\\t \" ,cc_multi)\n",
    "print(\"---------------------------------------------------------\")\n",
    "# print()\n",
    "# print(\"Metric of the univariate linear regression (engine-power and price)\\n\")\n",
    "# print(\"Coefficient of Determination:\\t \" ,cod)\n",
    "# print(\"Root Mean Square Error:\\t\\t \" ,rms)\n",
    "# print(\"Median Absolute error:\\t\\t \" ,mae)\n",
    "# print(\"Correlation Coefficient:\\t \" ,cc)"
   ]
  },
  {
   "cell_type": "markdown",
   "metadata": {},
   "source": [
    "<font color='red'>TASK MARK: 2</font>\n",
    "<br>\n",
    "<font color='green'>COMMENT: -</font>"
   ]
  },
  {
   "cell_type": "markdown",
   "metadata": {},
   "source": [
    "### ========== Question 2.4 --- [2 marks] ==========\n",
    " Comment on each metric display above in comparison to what you have obtained for the Simple Linear Regression model in Question 1.19."
   ]
  },
  {
   "cell_type": "markdown",
   "metadata": {},
   "source": [
    "*Your answer goes here*\n",
    "#### Answer:\n",
    "As the metric comparisons presented above, the coefficient of determination, as the name states, the multivariate linear regression model is much likely to determine the output with accuracy. The values have abruptly channged to 0.5 (Though it is not so good in predicting, relatively a better model). <br><br>\n",
    "Likewise the root mean square and mean absolute error have reduced abundantly from 6989 to 4475 and 5190 to 3300. Also, the correlation coefficient, is so much higher and also absolutely in a good form. It is 80% correlated with the price attribute. All the attributes combined gives a better correlation with the price."
   ]
  },
  {
   "cell_type": "markdown",
   "metadata": {},
   "source": [
    "<font color='red'>TASK MARK: 2</font>\n",
    "<br>\n",
    "<font color='green'>COMMENT: -</font>"
   ]
  },
  {
   "cell_type": "markdown",
   "metadata": {},
   "source": [
    "### ========== Question 2.5 --- [2 marks] ==========\n",
    "Examine the histogram for the `engine-size` attribute. Choose a sensible value for the number of bins in the histogram. Label axes appropriately and include a title in your plot."
   ]
  },
  {
   "cell_type": "code",
   "execution_count": 26,
   "metadata": {
    "collapsed": false
   },
   "outputs": [
    {
     "data": {
      "text/plain": [
       "<matplotlib.text.Text at 0x1205d2160>"
      ]
     },
     "execution_count": 26,
     "metadata": {},
     "output_type": "execute_result"
    },
    {
     "data": {
      "image/png": "[encoded data removed]",
      "text/plain": [
       "<matplotlib.figure.Figure at 0x11ee55908>"
      ]
     },
     "metadata": {},
     "output_type": "display_data"
    }
   ],
   "source": [
    "# Your code goes here\n",
    "engine_size = auto_numeric['engine-size']\n",
    "plt.hist(engine_size, range=[min(engine_size), max(engine_size)])\n",
    "plt.xlabel(\"engine_size\")\n",
    "plt.ylabel(\"frequency_count\")\n",
    "plt.title(\"Count of engine sizes\")\n",
    "\n",
    "## Sensible value will automatically lie if the range is chosen between minimum and maximum"
   ]
  },
  {
   "cell_type": "markdown",
   "metadata": {},
   "source": [
    "<font color='red'>TASK MARK: 2</font>\n",
    "<br>\n",
    "<font color='green'>COMMENT: -</font>"
   ]
  },
  {
   "cell_type": "markdown",
   "metadata": {},
   "source": [
    "### ========== Question 2.6 --- [2 marks] ==========\n",
    "Is the distribution expected to cause a problem for regression? Explain your answer in 2-3 sentences."
   ]
  },
  {
   "cell_type": "markdown",
   "metadata": {},
   "source": [
    "*Your answer goes here*\n",
    "#### Answer:\n",
    "Yes. It will cause problems as we do not know the price values for a huge range of engine-sizes. The distribution looks like a highly skewed Guassian (around the 3rd S.D(. There is huge number of datapoints around 0 - 50 and 2 datapoints around 120 and 170. The difference in range will cause problems by skewing the curve without even knowing the output for interlying datapoints.\n",
    "\n",
    "Also they are not outliers. We cannot disregard them as outliers without knowing the price value. So, we cannot exactly tell that before visualizing the data. There are a few larger values but we cannot just ignore them without knowing the correlation of the engine size with the price (output). If the price values of those datapoints with larger engine sizes are reasonably correlated, then it is not going to cause any problems for regression.\n",
    "\n",
    "So we have to include the values but transform it into a different space. [like a log space or an exponential space]"
   ]
  },
  {
   "cell_type": "markdown",
   "metadata": {},
   "source": [
    "<font color='red'>TASK MARK: 2</font>\n",
    "<br>\n",
    "<font color='green'>COMMENT: -</font>"
   ]
  },
  {
   "cell_type": "markdown",
   "metadata": {},
   "source": [
    "### ========== Question 2.7 --- [3 marks] ==========\n",
    "Transform this attribute using an appropriate simple technique from the lectures. Plot the histogram of the transformed attribute."
   ]
  },
  {
   "cell_type": "code",
   "execution_count": 27,
   "metadata": {
    "collapsed": false
   },
   "outputs": [
    {
     "data": {
      "text/plain": [
       "<matplotlib.text.Text at 0x120276198>"
      ]
     },
     "execution_count": 27,
     "metadata": {},
     "output_type": "execute_result"
    },
    {
     "data": {
      "image/png": "[encoded data removed]",
      "text/plain": [
       "<matplotlib.figure.Figure at 0x1204ad4a8>"
      ]
     },
     "metadata": {},
     "output_type": "display_data"
    }
   ],
   "source": [
    "# Your code goes here\n",
    "engine_size_log = np.log(engine_size)\n",
    "plt.hist(engine_size_log, range=[min(engine_size_log), max(engine_size_log)])\n",
    "plt.xlabel(\"engine_size in log space\")\n",
    "plt.ylabel(\"frequency_count\")\n",
    "plt.title(\"Count of engine sizes in log space\")"
   ]
  },
  {
   "cell_type": "markdown",
   "metadata": {},
   "source": [
    "<font color='red'>TASK MARK: 3</font>\n",
    "<br>\n",
    "<font color='green'>COMMENT: -</font>"
   ]
  },
  {
   "cell_type": "markdown",
   "metadata": {},
   "source": [
    "### ========== Question 2.8 --- [3 marks] ==========\n",
    "Now re-build a Linear Regression model on the transformed dataset and report the R^2, RMSE, MAE and CC metrics."
   ]
  },
  {
   "cell_type": "code",
   "execution_count": 95,
   "metadata": {
    "collapsed": false
   },
   "outputs": [
    {
     "name": "stdout",
     "output_type": "stream",
     "text": [
      "Metric of the log transformed multivariate linear regression\n",
      "\n",
      "Coefficient of Determination:\t  0.682976955209\n",
      "Root Mean Square Error:\t\t  0.275122333143\n",
      "Median Absolute error:\t\t  0.208485031091\n",
      "Correlation Coefficient:\t  0.847032799135\n",
      "---------------------------------------------------------\n",
      "Metric of the multivariate linear regression\n",
      "\n",
      "Coefficient of Determination:\t  0.560209843092\n",
      "Root Mean Square Error:\t\t  4475.4263513\n",
      "Median Absolute error:\t\t  3300.46496431\n",
      "Correlation Coefficient:\t  0.803776591668\n"
     ]
    }
   ],
   "source": [
    "# Your code goes here\n",
    "X_log = np.log(auto_numeric)\n",
    "y_log = X_log[\"price\"]\n",
    "X_log = X_log.drop(\"price\",1)\n",
    "X_train_log, X_test_log, y_train_log, y_test_log = train_test_split(X_log, y_log, train_size = 0.8, test_size=0.2, random_state=0)\n",
    "## Reshaping is not necessary as we already have number of columns, numpy can understand this format\n",
    "kf_log = KFold(n_splits=5, shuffle = True, random_state = 0)\n",
    "model_lr_log = LinearRegression(normalize=True)\n",
    "y_pred_log = cross_val_predict(model_lr_log, X_test_log, y_test_log, cv=kf_log)\n",
    "\n",
    "\n",
    "cod_log = r2_score(y_test_log, y_pred_log, multioutput='variance_weighted')\n",
    "rms_log = mean_squared_error(y_test_log, y_pred_log) ** 0.5\n",
    "mae_log = mean_absolute_error(y_test_log, y_pred_log)\n",
    "cc_log = np.corrcoef(y_test_log, y_pred_log)[1][0] # [0][1]\n",
    "print(\"Metric of the log transformed multivariate linear regression\\n\")\n",
    "print(\"Coefficient of Determination:\\t \" ,cod_log) ## Not asked in the question\n",
    "print(\"Root Mean Square Error:\\t\\t \" ,rms_log)\n",
    "print(\"Median Absolute error:\\t\\t \" ,mae_log)\n",
    "print(\"Correlation Coefficient:\\t \" ,cc_log)\n",
    "print(\"---------------------------------------------------------\")\n",
    "print(\"Metric of the multivariate linear regression\\n\")\n",
    "print(\"Coefficient of Determination:\\t \" ,cod_multi) ## Not asked in the question\n",
    "print(\"Root Mean Square Error:\\t\\t \" ,rms_multi)\n",
    "print(\"Median Absolute error:\\t\\t \" ,mae_multi)\n",
    "print(\"Correlation Coefficient:\\t \" ,cc_multi)"
   ]
  },
  {
   "cell_type": "markdown",
   "metadata": {},
   "source": [
    "<font color='red'>TASK MARK: 3</font>\n",
    "<br>\n",
    "<font color='green'>COMMENT: -</font>"
   ]
  },
  {
   "cell_type": "markdown",
   "metadata": {},
   "source": [
    "### ========== Question 2.9 --- [3 marks] ==========\n",
    "How has the performance of your model changed? Explain your answer in 1-2 sentences."
   ]
  },
  {
   "cell_type": "markdown",
   "metadata": {},
   "source": [
    "*Your answer goes here*\n",
    "#### Answer:\n",
    "\n",
    "#### The RMS and RAE are in log space, that is the reason why the values are in 0.20 and 0.27.  We cannnnot compare the error values with question 2.3 as this is inn log space annd those are in regular cartesian space. This metric is compared with the last question whose data are also in log space.\n",
    "\n",
    "\n",
    "As the metric comparisons presented in the previous cell depicts, coefficient of determination and correlation coefficient have increased a bit higher. The correlation has increased as the log space has well defined all the datapoints in a linear fashion instead of a skewed pattern. This change has convinced us that the skewness affects the performance of linear regression."
   ]
  },
  {
   "cell_type": "markdown",
   "metadata": {},
   "source": [
    "<font color='red'>TASK MARK: 3</font>\n",
    "<br>\n",
    "<font color='green'>COMMENT: -</font>"
   ]
  },
  {
   "cell_type": "markdown",
   "metadata": {},
   "source": [
    "### ========== Question 2.10 --- [2 marks] ==========\n",
    "So far we have performed regression with numeric attributes. We will now attempt to integrate nominal (categorical) attributes into our regression model. \n",
    "Load the dataset `train_auto_full.csv` into a pandas DataFrame called `auto_full`. Display the number of samples and attributes in the dataset. Also, display the first 20 instances of the dataset. *Hint: Execute the cell below to change the default for `max_columns` display option in pandas.*"
   ]
  },
  {
   "cell_type": "code",
   "execution_count": 29,
   "metadata": {
    "collapsed": true
   },
   "outputs": [],
   "source": [
    "pd.set_option('max_columns', 30)"
   ]
  },
  {
   "cell_type": "code",
   "execution_count": 30,
   "metadata": {
    "collapsed": false
   },
   "outputs": [
    {
     "name": "stdout",
     "output_type": "stream",
     "text": [
      "    normalized-losses       make fuel-type aspiration  num-of-doors  \\\n",
      "0               164.0       audi       gas        std             4   \n",
      "1               110.0       audi       gas        std             4   \n",
      "2               158.0       audi       gas        std             4   \n",
      "3               106.0       audi       gas      turbo             4   \n",
      "4               192.0        bmw       gas        std             2   \n",
      "5               194.0        bmw       gas        std             4   \n",
      "6               188.0        bmw       gas        std             2   \n",
      "7               150.0        bmw       gas        std             4   \n",
      "8               121.0  chevrolet       gas        std             2   \n",
      "9                98.0  chevrolet       gas        std             2   \n",
      "10               93.0  chevrolet       gas        std             4   \n",
      "11              231.0      dodge       gas        std             2   \n",
      "12              118.0      dodge       gas        std             2   \n",
      "13              118.0      dodge       gas      turbo             2   \n",
      "14              197.0      dodge       gas        std             4   \n",
      "15              148.0      dodge       gas        std             4   \n",
      "16              148.0      dodge       gas        std             4   \n",
      "17              110.0      dodge       gas        std             4   \n",
      "18              118.0      dodge       gas      turbo             2   \n",
      "19              137.0      honda       gas        std             2   \n",
      "\n",
      "   body-style drive-wheels engine-location  wheel-base  length  width  height  \\\n",
      "0       sedan          fwd           front        99.8   176.6   66.2    54.3   \n",
      "1       sedan          4wd           front        99.4   162.4   66.4    54.3   \n",
      "2       sedan          fwd           front       105.8   192.7   71.4    51.6   \n",
      "3       sedan          fwd           front        86.6   158.7   67.7    55.9   \n",
      "4       sedan          rwd           front       101.2   176.8   64.8    54.3   \n",
      "5       sedan          rwd           front       110.0   190.9   71.4    58.7   \n",
      "6       sedan          rwd           front       101.2   176.8   64.8    54.3   \n",
      "7       sedan          rwd           front       101.2   176.8   64.8    56.1   \n",
      "8   hatchback          fwd           front        88.4   141.1   60.3    53.2   \n",
      "9   hatchback          fwd           front       104.3   155.9   68.3    52.0   \n",
      "10      sedan          fwd           front        94.5   158.8   63.6    52.0   \n",
      "11  hatchback          fwd           front       113.0   199.6   71.4    59.1   \n",
      "12  hatchback          fwd           front        93.7   174.6   63.8    49.4   \n",
      "13  hatchback          fwd           front        93.7   157.3   63.8    50.8   \n",
      "14  hatchback          fwd           front       110.0   192.7   71.4    58.7   \n",
      "15      sedan          fwd           front        93.7   157.3   63.8    50.6   \n",
      "16      sedan          fwd           front        93.7   157.3   63.8    50.6   \n",
      "17      wagon          fwd           front       103.3   174.6   64.6    59.8   \n",
      "18  hatchback          fwd           front        95.9   173.2   66.3    50.2   \n",
      "19  hatchback          fwd           front        86.6   144.6   63.9    50.8   \n",
      "\n",
      "   engine-type  num-of-cylinders  engine-size fuel-system  bore  stroke  \\\n",
      "0          ohc                 4         8.85        mpfi  3.19    3.40   \n",
      "1          ohc                 5        15.18        mpfi  3.19    3.40   \n",
      "2          ohc                 5        15.18        mpfi  3.94    2.80   \n",
      "3          ohc                 5        13.74        mpfi  3.13    3.50   \n",
      "4          ohc                 4         8.67        mpfi  3.50    2.80   \n",
      "5          ohc                 4         8.67        mpfi  3.78    3.90   \n",
      "6          ohc                 6        26.58        mpfi  3.31    3.19   \n",
      "7          ohc                 6        26.58        mpfi  3.03    3.19   \n",
      "8            l                 3         3.39        2bbl  3.03    3.03   \n",
      "9          ohc                 4         6.05        2bbl  3.31    3.47   \n",
      "10         ohc                 4         6.05        2bbl  3.03    3.11   \n",
      "11         ohc                 4         6.05        2bbl  3.78    4.17   \n",
      "12         ohc                 4         6.05        2bbl  2.97    3.23   \n",
      "13         ohc                 4         7.10        mpfi  3.03    3.39   \n",
      "14         ohc                 4         6.05        2bbl  3.78    3.90   \n",
      "15         ohc                 4         6.05        2bbl  2.97    3.23   \n",
      "16         ohc                 4         6.05        2bbl  2.97    3.23   \n",
      "17         ohc                 4        11.47        2bbl  3.34    3.46   \n",
      "18         ohc                 4        22.65         mfi  3.60    3.90   \n",
      "19         ohc                 4         6.30        1bbl  2.91    3.41   \n",
      "\n",
      "    compression-ratio  engine-power  peak-rpm  city-mpg  highway-mpg  \\\n",
      "0               10.00      102000.0    5500.0      24.0         30.0   \n",
      "1                8.00      115000.0    5500.0      18.0         22.0   \n",
      "2                8.50       70000.0    4400.0      28.0         30.0   \n",
      "3                7.80      140000.0    5600.0      32.0         20.0   \n",
      "4                8.80      101000.0    5800.0      23.0         29.0   \n",
      "5               22.50      101000.0    6000.0      47.0         53.0   \n",
      "6                9.00      121000.0    4250.0      21.0         28.0   \n",
      "7                8.00      134000.0    4400.0      28.0         37.0   \n",
      "8                9.50       48000.0    5300.0      47.0         53.0   \n",
      "9                7.80       70000.0    5000.0      34.0         34.0   \n",
      "10               9.60       70000.0    5400.0      38.0         43.0   \n",
      "11               9.41      176000.0    6600.0      49.0         54.0   \n",
      "12              21.50       68000.0    5500.0      31.0         38.0   \n",
      "13               7.60      102000.0    5500.0      24.0         30.0   \n",
      "14              22.50      162000.0    6000.0      47.0         53.0   \n",
      "15               9.40       68000.0    5500.0      31.0         38.0   \n",
      "16               9.40       68000.0    5500.0      31.0         38.0   \n",
      "17               8.50       88000.0    5000.0      24.0         30.0   \n",
      "18               7.00      145000.0    5000.0      19.0         24.0   \n",
      "19               9.60       58000.0    4800.0      49.0         54.0   \n",
      "\n",
      "    symboling  mean-effective-pressure   torque    price  \n",
      "0           2                    40.52    57.68  13950.0  \n",
      "1           2                    47.39    59.59  17450.0  \n",
      "2           1                     0.85  3344.79  17710.0  \n",
      "3           1                    44.74    68.97  23875.0  \n",
      "4           2                    44.78    53.48  16430.0  \n",
      "5           0                     1.80  1330.28  16925.0  \n",
      "6           0                     7.19   377.06  20970.0  \n",
      "7           0                    57.37    48.20  21105.0  \n",
      "8           2                    59.33    25.08   5151.0  \n",
      "9           1                    51.55    36.35   6295.0  \n",
      "10          0                    65.57    29.11   6575.0  \n",
      "11          1                    93.12    20.15   5572.0  \n",
      "12          1                    12.28   152.80   6377.0  \n",
      "13          1                    28.80    73.88   7957.0  \n",
      "14          1                    47.53    41.38   6229.0  \n",
      "15          1                    14.59   136.33   6692.0  \n",
      "16          1                     4.07   488.77   7609.0  \n",
      "17         -1                    76.69    33.05   8921.0  \n",
      "18          3                    24.17   116.32  12964.0  \n",
      "19          2                    51.27    33.41   6479.0  \n"
     ]
    }
   ],
   "source": [
    "# Your code goes here\n",
    "auto_full = pd.read_csv('datasets/train_auto_full.csv')\n",
    "print(auto_full.head(20))"
   ]
  },
  {
   "cell_type": "markdown",
   "metadata": {},
   "source": [
    "<font color='red'>TASK MARK: 2</font>\n",
    "<br>\n",
    "<font color='green'>COMMENT: -</font>"
   ]
  },
  {
   "cell_type": "markdown",
   "metadata": {},
   "source": [
    "### ========== Question 2.11 --- [3 marks] ==========\n",
    "This dataset contains a mixture of numeric and nominal attributes. Name the variables that you think are categorical. Why can we not use the nominal attributes in their current form for the purposes of regression? "
   ]
  },
  {
   "cell_type": "markdown",
   "metadata": {},
   "source": [
    "*Your answer goes here*\n",
    "#### Answer:\n",
    "Categorical attributes:\n",
    "1. make\n",
    "2. fuel-type\n",
    "3. aspiration\n",
    "4. body-style\n",
    "5. drive-wheels\n",
    "6. engine-location\n",
    "7. engine-type\n",
    "8. fuel-system\n",
    "\n",
    "We cannot use these categorical attributes as linear regression needs numerical data type. Every data type needs to be represented as numeric values. The only way to proceed with categorical values are assign numeric values to differentiate their classes from each other."
   ]
  },
  {
   "cell_type": "markdown",
   "metadata": {},
   "source": [
    "<font color='red'>TASK MARK: 3</font>\n",
    "<br>\n",
    "<font color='green'>COMMENT: -</font>"
   ]
  },
  {
   "cell_type": "markdown",
   "metadata": {},
   "source": [
    "### ========== Question 2.12 --- [5 marks] ==========\n",
    "Now we want to convert the categorical variables by using [One-Hot-Encoding](http://scikit-learn.org/stable/modules/generated/sklearn.preprocessing.OneHotEncoder.html#sklearn.preprocessing.OneHotEncoder). Familiarise yourself with the class. One limitation with this module is that it can deal only with categorical attributes in integer format (remember that in our example we have attributes in string format). \n",
    "\n",
    "Copy the `auto_full` dataframe into a new dataframe `auto_full_edit` and transform the categorical variables by using [Label Encoding](http://scikit-learn.org/stable/modules/generated/sklearn.preprocessing.LabelEncoder.html). Then transform again the categorical variables by using One-Hot-Encoding. Make sure you don't transform the continuous variables. *Hint: make appropriate use of the `categorical_features` parameter in [`OneHotEncoder`](http://scikit-learn.org/stable/modules/generated/sklearn.preprocessing.OneHotEncoder.html#sklearn.preprocessing.OneHotEncoder).*\n",
    "\n",
    "Store the transformed attributes into a numpy array `X_enc` and display its dimensionality.  \n"
   ]
  },
  {
   "cell_type": "code",
   "execution_count": 82,
   "metadata": {
    "collapsed": false
   },
   "outputs": [
    {
     "data": {
      "text/plain": [
       "(159, 60)"
      ]
     },
     "execution_count": 82,
     "metadata": {},
     "output_type": "execute_result"
    }
   ],
   "source": [
    "# Your code goes here\n",
    "from sklearn import preprocessing\n",
    "from sklearn.preprocessing import OneHotEncoder\n",
    "auto_full_edit = auto_full.copy()\n",
    "le = preprocessing.LabelEncoder()\n",
    "# le = preprocessing.LabelEncoder()\n",
    "# auto_full_edit = le.fit(auto_full_edit)\n",
    "target = auto_full_edit['price']\n",
    "auto_full_edit = auto_full_edit.drop('price', 1)\n",
    "categorical_columns = []\n",
    "columns_count = 0\n",
    "for column in auto_full_edit:\n",
    "    if (auto_full_edit[column].dtype == object):\n",
    "        le.fit(auto_full_edit[column])\n",
    "        auto_full_edit[column] = le.transform(auto_full_edit[column])\n",
    "        categorical_columns.append(columns_count)\n",
    "    columns_count +=1\n",
    "enc = OneHotEncoder(categorical_features=categorical_columns)\n",
    "enc.fit(auto_full_edit)\n",
    "X_enc = enc.transform(auto_full_edit)\n",
    "X_enc.shape"
   ]
  },
  {
   "cell_type": "markdown",
   "metadata": {},
   "source": [
    "<font color='red'>TASK MARK: 5</font>\n",
    "<br>\n",
    "<font color='green'>COMMENT: -</font>"
   ]
  },
  {
   "cell_type": "code",
   "execution_count": 81,
   "metadata": {
    "collapsed": false
   },
   "outputs": [
    {
     "name": "stdout",
     "output_type": "stream",
     "text": [
      "[[  1.00000000e+00   0.00000000e+00   0.00000000e+00 ...,   2.00000000e+00\n",
      "    4.05200000e+01   5.76800000e+01]\n",
      " [  1.00000000e+00   0.00000000e+00   0.00000000e+00 ...,   2.00000000e+00\n",
      "    4.73900000e+01   5.95900000e+01]\n",
      " [  1.00000000e+00   0.00000000e+00   0.00000000e+00 ...,   1.00000000e+00\n",
      "    8.50000000e-01   3.34479000e+03]\n",
      " ..., \n",
      " [  0.00000000e+00   0.00000000e+00   0.00000000e+00 ...,  -1.00000000e+00\n",
      "    3.25400000e+01   9.25700000e+01]\n",
      " [  0.00000000e+00   0.00000000e+00   0.00000000e+00 ...,  -1.00000000e+00\n",
      "    5.01000000e+01   6.42100000e+01]\n",
      " [  0.00000000e+00   0.00000000e+00   0.00000000e+00 ...,  -1.00000000e+00\n",
      "    9.70000000e+00   3.15830000e+02]]\n"
     ]
    }
   ],
   "source": [
    "print(X_enc)"
   ]
  },
  {
   "cell_type": "markdown",
   "metadata": {},
   "source": [
    "### ========== Question 2.13 --- [2 marks] ==========\n",
    "By using the transformed data train a multivariate linear regression model and by using 5-fold cross-validation report the R^2, RMSE, MAE and CC metrics."
   ]
  },
  {
   "cell_type": "code",
   "execution_count": 83,
   "metadata": {
    "collapsed": false
   },
   "outputs": [
    {
     "name": "stdout",
     "output_type": "stream",
     "text": [
      "Metric of the one hot vector transformed multivariate linear regression\n",
      "\n",
      "Coefficient of Determination:\t  0.840593111038\n",
      "Root Mean Square Error:\t\t  2684.47720601\n",
      "Median Absolute error:\t\t  1805.25903601\n",
      "Correlation Coefficient:\t  0.920406167248\n"
     ]
    }
   ],
   "source": [
    "# Your code goes here\n",
    "kf_one_hot = KFold(n_splits=5, shuffle = True, random_state = 0)\n",
    "model_one_hot = LinearRegression(normalize=True)\n",
    "y_pred_one_hot = cross_val_predict(model_one_hot, X_enc, target, cv=kf_one_hot)\n",
    "\n",
    "cod_one_hot = r2_score(target, y_pred_one_hot, multioutput='variance_weighted')\n",
    "rms_one_hot = mean_squared_error(target, y_pred_one_hot) ** 0.5\n",
    "mae_one_hot = mean_absolute_error(target, y_pred_one_hot)\n",
    "cc_one_hot = np.corrcoef(target, y_pred_one_hot)[1][0] # [0][1]\n",
    "print(\"Metric of the one hot vector transformed multivariate linear regression\\n\")\n",
    "print(\"Coefficient of Determination:\\t \" ,cod_one_hot) ## Not asked in the question\n",
    "print(\"Root Mean Square Error:\\t\\t \" ,rms_one_hot)\n",
    "print(\"Median Absolute error:\\t\\t \" ,mae_one_hot)\n",
    "print(\"Correlation Coefficient:\\t \" ,cc_one_hot)"
   ]
  },
  {
   "cell_type": "markdown",
   "metadata": {},
   "source": [
    "<font color='red'>TASK MARK: 2</font>\n",
    "<br>\n",
    "<font color='green'>COMMENT: -</font>"
   ]
  },
  {
   "cell_type": "markdown",
   "metadata": {},
   "source": [
    "### ========== Question 2.14 --- [4 marks] ==========\n",
    "How does this more complex model perform with respect to your best performing model from either question 2.3 or 2.8? List one advantage and one disadvantage of using the more complex model."
   ]
  },
  {
   "cell_type": "markdown",
   "metadata": {},
   "source": [
    "*Your answer goes here*\n",
    "\n",
    "#### Advantage + metric evaluation:\n",
    "Obviously, we can see that the correlation coefficient has increased significantly to 92%. MSE has reduced from 4475 to 2684 and MAE has reduced from 3300 to 1805. From this observation it is clear that the transformed model is performing better with more attributes. Though the raw data of few attributes are categorical, those can be transformed to numerical or cardinal by one-hot vector (many other strategies are available too).\n",
    "\n",
    "#### Disadvantage\n",
    "This complex model does one-hot vector tranformation where every data of a categorical feature is converted to an n-dimensional vector where n is the number unique classes in a categorical attribute. This costs a lot of extra memory. We should aim for a more compact way to represent categorical data."
   ]
  },
  {
   "cell_type": "markdown",
   "metadata": {},
   "source": [
    "<font color='red'>TASK MARK: 4</font>\n",
    "<br>\n",
    "<font color='green'>COMMENT: -</font>"
   ]
  },
  {
   "cell_type": "markdown",
   "metadata": {},
   "source": [
    "### ========== Question 2.15 --- [4 marks] ==========\n",
    "Finally, experiment with tree-based regressors (e.g. [`DecisionTreeRegressor`](http://scikit-learn.org/stable/modules/generated/sklearn.tree.DecisionTreeRegressor.html), [`RandomForestRegressor`](http://scikit-learn.org/stable/modules/generated/sklearn.ensemble.RandomForestRegressor.html)) and report 5-fold cross-validation scores for R^2, RMSE, MAE and CC. Has your performance improved? Explain your answer in 1-2 sentences."
   ]
  },
  {
   "cell_type": "code",
   "execution_count": 93,
   "metadata": {
    "collapsed": false
   },
   "outputs": [
    {
     "name": "stdout",
     "output_type": "stream",
     "text": [
      "Metric of the one hot vector transformed multivariate linear regression\n",
      "\n",
      "Coefficient of Determination:\t  0.390614844892\n",
      "Root Mean Square Error:\t\t  0.381440114982\n",
      "Median Absolute error:\t\t  0.291675033643\n",
      "Correlation Coefficient:\t  0.626174184216\n"
     ]
    }
   ],
   "source": [
    "# Your code goes here\n",
    "\n",
    "model_decision = RandomForestRegressor(random_state=0)\n",
    "kf_decision = KFold(n_splits=5, shuffle = True, random_state = 0)\n",
    "y_pred_decision = cross_val_predict(model_decision, X_test_log, y_test_log)\n",
    "\n",
    "cod_decision = r2_score(y_test_log, y_pred_decision, multioutput='variance_weighted')\n",
    "rms_decision = mean_squared_error(y_test_log, y_pred_decision) ** 0.5\n",
    "mae_decision = mean_absolute_error(y_test_log, y_pred_decision)\n",
    "cc_decision = np.corrcoef(y_test_log, y_pred_decision)[1][0] # [0][1]\n",
    "print(\"Metric of the one hot vector transformed multivariate linear regression\\n\")\n",
    "print(\"Coefficient of Determination:\\t \" ,cod_decision) ## Not asked in the question\n",
    "print(\"Root Mean Square Error:\\t\\t \" ,rms_decision)\n",
    "print(\"Median Absolute error:\\t\\t \" ,mae_decision)\n",
    "print(\"Correlation Coefficient:\\t \" ,cc_decision)"
   ]
  },
  {
   "cell_type": "markdown",
   "metadata": {},
   "source": [
    "*Your answer goes here*\n",
    "\n",
    "#### Answer:\n",
    "As random forest model is a collection of randomly built decision trees, the metrics of decision trees will always be smaller compared to that of the random forest. So, I am just implementing the random forest. Anyways, the model has not proved to serve better. \n",
    "\n",
    "#### Comparing the RMS and RAE which are in log space, now we can compare qn 2.8 and qn 2.3 as both are in same space and comparable.\n",
    "As you can see those mean error values have increased and CC has dropped heavily.\n"
   ]
  },
  {
   "cell_type": "markdown",
   "metadata": {},
   "source": [
    "<font color='red'>TASK MARK: 4</font>\n",
    "<br>\n",
    "<font color='green'>COMMENT: -</font>"
   ]
  },
  {
   "cell_type": "code",
   "execution_count": null,
   "metadata": {
    "collapsed": true
   },
   "outputs": [],
   "source": []
  }
 ],
 "metadata": {
  "kernelspec": {
   "display_name": "Python 3",
   "language": "python",
   "name": "python3"
  },
  "language_info": {
   "codemirror_mode": {
    "name": "ipython",
    "version": 3
   },
   "file_extension": ".py",
   "mimetype": "text/x-python",
   "name": "python",
   "nbconvert_exporter": "python",
   "pygments_lexer": "ipython3",
   "version": "3.5.2"
  }
 },
 "nbformat": 4,
 "nbformat_minor": 1
}

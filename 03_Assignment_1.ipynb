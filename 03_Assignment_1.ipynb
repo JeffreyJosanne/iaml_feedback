{
 "cells": [
  {
   "cell_type": "markdown",
   "metadata": {
    "collapsed": true
   },
   "source": [
    "# Introductory applied machine learning (INFR10069)"
   ]
  },
  {
   "cell_type": "markdown",
   "metadata": {},
   "source": [
    "# Assignment 1: Data analysis and visualisation"
   ]
  },
  {
   "cell_type": "markdown",
   "metadata": {},
   "source": [
    "## Marking Breakdown\n",
    "\n",
    "**70-100%** results/answer correct plus extra achievement at understanding or analysis of results. Clear explanations, evidence of creative or deeper thought will contribute to a higher grade.\n",
    "\n",
    "**60-69%** results/answer correct or nearly correct and well explained.\n",
    "\n",
    "**50-59%** results/answer in right direction but significant errors.\n",
    "\n",
    "**40-49%** some evidence that the student has gained some understanding, but not answered the questions\n",
    "properly.\n",
    "\n",
    "**0-39%** serious error or slack work."
   ]
  },
  {
   "cell_type": "markdown",
   "metadata": {},
   "source": [
    "<font color='red'>77/100</font>"
   ]
  },
  {
   "cell_type": "markdown",
   "metadata": {},
   "source": [
    "## Mechanics\n",
    "\n",
    "Fill out this notebook, save it, and **submit it electronically as described below.**\n",
    "\n",
    "On a DICE environment, open the terminal, navigate to the location of this notebook, and submit this notebook file using the following command:\n",
    "\n",
    "`submit iaml cw1 03_Assignment_1.ipynb`\n",
    "\n",
    "What actually happens in the background is that your file is placed in a folder available to markers. If you submit a file with the same name into the same location, **it will *overwrite* your previous submission**. You can check the status of your submissions with the `show_submissions` command.\n",
    "\n",
    "**Distance Learners:** To copy your work up to DICE (such that you can use the `submit` command) you can use `scp` or `rsync` (you may need to install these yourself). You can copy files up using `student.ssh.inf.ed.ac.uk`, then ssh in to submit, e.g. (in a unix terminal):\n",
    "```\n",
    "filename=03_Assignment_1.ipynb\n",
    "local_scp_filepath=~/git/iaml2017/${filename}\n",
    "UUN=s0816700\n",
    "server_address=student.ssh.inf.ed.ac.uk\n",
    "scp -r ${local_scp_filepath} ${UUN}@${server_address}:${filename}\n",
    "# rsync -rl ${local_scp_filepath} ${UUN}@${server_address}:${filename}\n",
    "ssh ${UUN}@${server_address}\n",
    "ssh student.login\n",
    "submit iaml cw1 03_Assignment_1.ipynb\n",
    "```\n",
    "\n",
    "**Late submissions:** The policy stated in the School of Informatics MSc Degree Guide is that normally you will not be allowed to submit coursework late. See http://www.inf.ed.ac.uk/teaching/years/msc/courseguide10.html#exam for exceptions to this, e.g. in case of serious medical illness or serious personal problems.\n",
    "\n",
    "**Collaboration:** You may discuss the assignment with your colleagues, provided that the writing that you submit is entirely your own. That is, you should NOT borrow actual text or code from other students. We ask that you provide a list of the people who you've had discussions with (if any).\n",
    "\n",
    "**Resubmission:** If you submit your file again, the previous submission is **overwritten**. We will mark the version that is in the submission folder at the deadline."
   ]
  },
  {
   "cell_type": "markdown",
   "metadata": {},
   "source": [
    "## Important Instructions\n",
    "\n",
    "1. You *MUST* have your environment set up as in the [README](https://github.com/JamesOwers/iaml2017) and you *must activate this environment before running this notebook*:\n",
    "```\n",
    "source activate iaml\n",
    "cd iaml_2017\n",
    "jupyter notebook\n",
    "# Navigate to this file\n",
    "```\n",
    "\n",
    "1. Wherever you are required to produce code you should use code cells, otherwise you should use markdown cells to report results and explain answers.\n",
    "\n",
    "1. The .csv files that you will be using are located at `./datasets` (the `datasets` directory is adjacent to this file).\n",
    "\n",
    "1. **IMPORTANT:** Keep your answers brief and concise. Most written questions can be answered with 2-3 lines of explanation."
   ]
  },
  {
   "cell_type": "markdown",
   "metadata": {},
   "source": [
    "## Imports\n",
    "\n",
    "Execute the cell below to import all packages you will be using in the rest of the assignemnt."
   ]
  },
  {
   "cell_type": "code",
   "execution_count": 1,
   "metadata": {
    "collapsed": true
   },
   "outputs": [],
   "source": [
    "from __future__ import print_function, division\n",
    "import os\n",
    "import numpy as np\n",
    "import pandas as pd\n",
    "import matplotlib.pyplot as plt\n",
    "import sklearn as sklearn\n",
    "import seaborn as sns\n",
    "from scipy import stats\n",
    "%matplotlib inline"
   ]
  },
  {
   "cell_type": "markdown",
   "metadata": {},
   "source": [
    "## Description of the dataset\n",
    "\n",
    "This assignment is based on the 20 Newsgroups Dataset. This dataset is a collection of approximately 20,000 newsgroup documents, partitioned (nearly) evenly across 20 different newsgroups, each corresponding to a different topic. Some of the newsgroups are very closely related to each other (e.g. comp.sys.ibm.pc.hardware, comp.sys.mac.hardware), while others are highly unrelated (e.g misc.forsale, soc.religion.christian). \n",
    "\n",
    "There are three versions of the 20 Newsgroups Dataset. In this assignment we will use the `bydate` matlab version in which documents are sorted by date into training (60%) and test (40%) sets, newsgroup-identifying headers are dropped and duplicates are removed. This collection comprises roughly 61,000 different words, which results in a bag-of-words representation with frequency counts. More specifically, each document is represented by a 61,000 dimensional vector that contains the counts for each of the 61,000 different words present in the respective document. \n",
    "\n",
    "To save you time and to make the problem manageable with limited computational resources, we preprocessed the original dataset. We will use documents from only 5 out of the 20 newsgroups, which results in a 5-class problem. More specifically the 5 classes correspond to the following newsgroups: \n",
    "1. `alt.atheism`\n",
    "2. `comp.sys.ibm.pc.hardware`\n",
    "3. `comp.sys.mac.hardware`\n",
    "4. `rec.sport.baseball`\n",
    "5. `rec.sport.hockey `\n",
    "\n",
    "However, note here that classes 2-3 and 4-5 are rather closely related. Additionally, we computed the [mutual information](https://en.wikipedia.org/wiki/Mutual_information) of each word with the class attribute and selected the 520 words out of 61,000 that had highest mutual information. Therefore, our dataset is a $N \\times 520$ dimensional matrix, where $N$ is the number of documents. For very sophisticated technical reasons 1 was added to all the word counts in part A. The resulting representation is much more compact and can be used directly to perform our experiments in Python."
   ]
  },
  {
   "cell_type": "markdown",
   "metadata": {},
   "source": [
    "## 1. Exploration of the dataset [40%]"
   ]
  },
  {
   "cell_type": "markdown",
   "metadata": {},
   "source": [
    "Your first task is to get a feel for the data that you will be dealing with in the rest of the assignment."
   ]
  },
  {
   "cell_type": "markdown",
   "metadata": {},
   "source": [
    "### ========== Question 1.1 --- [5 marks] ==========\n",
    "Load the datasets `train_20news_partA.csv` and `train_20news_partB.csv` into two separate pandas DataFrames."
   ]
  },
  {
   "cell_type": "markdown",
   "metadata": {},
   "source": [
    "<font color='red'>5/5</font>"
   ]
  },
  {
   "cell_type": "code",
   "execution_count": 2,
   "metadata": {
    "collapsed": true
   },
   "outputs": [],
   "source": [
    "# Your code goes here\n",
    "pathA = os.path.join('datasets','train_20news_partA.csv')\n",
    "pathB = os.path.join('datasets','train_20news_partB.csv')\n",
    "trainA = pd.read_csv(pathA)\n",
    "trainB = pd.read_csv(pathB)"
   ]
  },
  {
   "cell_type": "markdown",
   "metadata": {
    "collapsed": true
   },
   "source": [
    "### ========== Question 1.2 --- [3 marks] ==========\n",
    "Display basic information for dataset A such as number of columns, type, and memory usage (*hint: pandas dataframes have a built in method for this*) "
   ]
  },
  {
   "cell_type": "markdown",
   "metadata": {},
   "source": [
    "<font color='red'>1/3</font>"
   ]
  },
  {
   "cell_type": "code",
   "execution_count": 3,
   "metadata": {},
   "outputs": [
    {
     "name": "stdout",
     "output_type": "stream",
     "text": [
      "(2129, 521)\n",
      "   w1_aaa  w2_pins  w3_kmr  w4_notion  w5_queens  w6_dwyer  w7_defenseman  \\\n",
      "0       1        1       1          1          1         1              1   \n",
      "1       1        1       1          1          1         1              1   \n",
      "2       1        1       1          1          1         1              1   \n",
      "3       1        1       1          1          1         1              1   \n",
      "4       1        1       1          1          1         1              1   \n",
      "\n",
      "   w8_gld  w9_tocchet  w10_home  ...    w512_constantly  w513_generate  \\\n",
      "0       1           1         1  ...                  1              5   \n",
      "1       1           1         1  ...                  2              3   \n",
      "2       1           1         2  ...                  4              2   \n",
      "3       1           1         1  ...                  6              3   \n",
      "4       1           1         1  ...                  6              1   \n",
      "\n",
      "   w514_definite  w515_lacks  w516_combination  w517_sitting  w518_surface  \\\n",
      "0              3           6                 8             4             6   \n",
      "1              6           8                 3             4             5   \n",
      "2              6           5                 2             5             5   \n",
      "3              6           1                 1             8             1   \n",
      "4              7           8                 6             3             1   \n",
      "\n",
      "   w519_fashion  w520_sit  class  \n",
      "0             4         8      4  \n",
      "1             6         5      4  \n",
      "2             7         8      2  \n",
      "3             8         4      3  \n",
      "4             8         4      3  \n",
      "\n",
      "[5 rows x 521 columns]\n",
      "-------------------------------------------\n",
      "      w1_aaa  w2_pins  w3_kmr  w4_notion  w5_queens  w6_dwyer  w7_defenseman  \\\n",
      "1910       1        1       1          1          1         2              1   \n",
      "1911       1        1       1          1          1         1              1   \n",
      "1912       1        1       1          1          1         1              1   \n",
      "1913       1        1       1          1          1         1              1   \n",
      "1914       1        1       1          1          1         1              1   \n",
      "\n",
      "      w8_gld  w9_tocchet  w10_home  ...    w512_constantly  w513_generate  \\\n",
      "1910       1           1         1  ...                  5              5   \n",
      "1911       1           1         1  ...                  3              4   \n",
      "1912       1           1         1  ...                  6              3   \n",
      "1913       1           1         1  ...                  8              3   \n",
      "1914       1           1         1  ...                  3              1   \n",
      "\n",
      "      w514_definite  w515_lacks  w516_combination  w517_sitting  w518_surface  \\\n",
      "1910              2           8                 2             4             7   \n",
      "1911              6           8                 8             8             1   \n",
      "1912              6           7                 2             6             6   \n",
      "1913              4           8                 8             2             6   \n",
      "1914              2           8                 5             5             8   \n",
      "\n",
      "      w519_fashion  w520_sit  class  \n",
      "1910             2         8      1  \n",
      "1911             2         2      5  \n",
      "1912             7         3      3  \n",
      "1913             5         5      1  \n",
      "1914             7         5      2  \n",
      "\n",
      "[5 rows x 521 columns]\n"
     ]
    }
   ],
   "source": [
    "# Your code goes here\n",
    "print(trainA.shape)\n",
    "print(trainA.head())\n",
    "# print(trainA.info())\n",
    "print('-------------------------------------------')\n",
    "# print(trainB.describe())\n",
    "print(trainB.head())\n",
    "# print(trainB.info())"
   ]
  },
  {
   "cell_type": "markdown",
   "metadata": {},
   "source": [
    "### ========== Question 1.3 --- [3 marks] ==========\n",
    "How many data points and how many attributes are there in the dataset that we can use to model the target variable `class`?"
   ]
  },
  {
   "cell_type": "markdown",
   "metadata": {},
   "source": [
    "<font color='red'>1/3</font>"
   ]
  },
  {
   "cell_type": "markdown",
   "metadata": {},
   "source": [
    "*Your answer goes here*\n",
    "There are 2129 datapoints and 519 attributes from training data A. \n"
   ]
  },
  {
   "cell_type": "markdown",
   "metadata": {
    "collapsed": true
   },
   "source": [
    "### ========== Question 1.4 --- [3 marks] ==========\n",
    "Use a Pandas method to display the summary statistics for the `news_A` DataFrame."
   ]
  },
  {
   "cell_type": "markdown",
   "metadata": {},
   "source": [
    "<font color='red'>3/3</font>"
   ]
  },
  {
   "cell_type": "code",
   "execution_count": 4,
   "metadata": {},
   "outputs": [
    {
     "data": {
      "text/html": [
       "<div>\n",
       "<style>\n",
       "    .dataframe thead tr:only-child th {\n",
       "        text-align: right;\n",
       "    }\n",
       "\n",
       "    .dataframe thead th {\n",
       "        text-align: left;\n",
       "    }\n",
       "\n",
       "    .dataframe tbody tr th {\n",
       "        vertical-align: top;\n",
       "    }\n",
       "</style>\n",
       "<table border=\"1\" class=\"dataframe\">\n",
       "  <thead>\n",
       "    <tr style=\"text-align: right;\">\n",
       "      <th></th>\n",
       "      <th>w1_aaa</th>\n",
       "      <th>w2_pins</th>\n",
       "      <th>w3_kmr</th>\n",
       "      <th>w4_notion</th>\n",
       "      <th>w5_queens</th>\n",
       "      <th>w6_dwyer</th>\n",
       "      <th>w7_defenseman</th>\n",
       "      <th>w8_gld</th>\n",
       "      <th>w9_tocchet</th>\n",
       "      <th>w10_home</th>\n",
       "      <th>...</th>\n",
       "      <th>w512_constantly</th>\n",
       "      <th>w513_generate</th>\n",
       "      <th>w514_definite</th>\n",
       "      <th>w515_lacks</th>\n",
       "      <th>w516_combination</th>\n",
       "      <th>w517_sitting</th>\n",
       "      <th>w518_surface</th>\n",
       "      <th>w519_fashion</th>\n",
       "      <th>w520_sit</th>\n",
       "      <th>class</th>\n",
       "    </tr>\n",
       "  </thead>\n",
       "  <tbody>\n",
       "    <tr>\n",
       "      <th>count</th>\n",
       "      <td>2129.000000</td>\n",
       "      <td>2129.000000</td>\n",
       "      <td>2129.000000</td>\n",
       "      <td>2129.000000</td>\n",
       "      <td>2129.000000</td>\n",
       "      <td>2129.00000</td>\n",
       "      <td>2129.000000</td>\n",
       "      <td>2129.000000</td>\n",
       "      <td>2129.000000</td>\n",
       "      <td>2129.000000</td>\n",
       "      <td>...</td>\n",
       "      <td>2129.000000</td>\n",
       "      <td>2129.000000</td>\n",
       "      <td>2129.000000</td>\n",
       "      <td>2129.000000</td>\n",
       "      <td>2129.000000</td>\n",
       "      <td>2129.000000</td>\n",
       "      <td>2129.000000</td>\n",
       "      <td>2129.000000</td>\n",
       "      <td>2129.000000</td>\n",
       "      <td>2129.000000</td>\n",
       "    </tr>\n",
       "    <tr>\n",
       "      <th>mean</th>\n",
       "      <td>5.128229</td>\n",
       "      <td>6.097698</td>\n",
       "      <td>6.120244</td>\n",
       "      <td>5.551902</td>\n",
       "      <td>5.521841</td>\n",
       "      <td>6.12776</td>\n",
       "      <td>5.633161</td>\n",
       "      <td>6.090653</td>\n",
       "      <td>5.970409</td>\n",
       "      <td>5.624706</td>\n",
       "      <td>...</td>\n",
       "      <td>9.666510</td>\n",
       "      <td>9.217473</td>\n",
       "      <td>9.061531</td>\n",
       "      <td>9.398309</td>\n",
       "      <td>9.175200</td>\n",
       "      <td>9.708783</td>\n",
       "      <td>8.807891</td>\n",
       "      <td>9.719587</td>\n",
       "      <td>9.307656</td>\n",
       "      <td>3.092532</td>\n",
       "    </tr>\n",
       "    <tr>\n",
       "      <th>std</th>\n",
       "      <td>38.292577</td>\n",
       "      <td>46.190953</td>\n",
       "      <td>46.656022</td>\n",
       "      <td>40.953913</td>\n",
       "      <td>40.978098</td>\n",
       "      <td>45.96434</td>\n",
       "      <td>41.146918</td>\n",
       "      <td>45.762060</td>\n",
       "      <td>44.266628</td>\n",
       "      <td>40.769105</td>\n",
       "      <td>...</td>\n",
       "      <td>45.844064</td>\n",
       "      <td>43.948910</td>\n",
       "      <td>40.969185</td>\n",
       "      <td>43.833064</td>\n",
       "      <td>42.403283</td>\n",
       "      <td>47.294120</td>\n",
       "      <td>39.341038</td>\n",
       "      <td>46.185082</td>\n",
       "      <td>45.059367</td>\n",
       "      <td>1.395948</td>\n",
       "    </tr>\n",
       "    <tr>\n",
       "      <th>min</th>\n",
       "      <td>1.000000</td>\n",
       "      <td>1.000000</td>\n",
       "      <td>1.000000</td>\n",
       "      <td>1.000000</td>\n",
       "      <td>1.000000</td>\n",
       "      <td>1.00000</td>\n",
       "      <td>1.000000</td>\n",
       "      <td>1.000000</td>\n",
       "      <td>1.000000</td>\n",
       "      <td>1.000000</td>\n",
       "      <td>...</td>\n",
       "      <td>1.000000</td>\n",
       "      <td>1.000000</td>\n",
       "      <td>1.000000</td>\n",
       "      <td>1.000000</td>\n",
       "      <td>1.000000</td>\n",
       "      <td>1.000000</td>\n",
       "      <td>1.000000</td>\n",
       "      <td>1.000000</td>\n",
       "      <td>1.000000</td>\n",
       "      <td>1.000000</td>\n",
       "    </tr>\n",
       "    <tr>\n",
       "      <th>25%</th>\n",
       "      <td>1.000000</td>\n",
       "      <td>1.000000</td>\n",
       "      <td>1.000000</td>\n",
       "      <td>1.000000</td>\n",
       "      <td>1.000000</td>\n",
       "      <td>1.00000</td>\n",
       "      <td>1.000000</td>\n",
       "      <td>1.000000</td>\n",
       "      <td>1.000000</td>\n",
       "      <td>1.000000</td>\n",
       "      <td>...</td>\n",
       "      <td>3.000000</td>\n",
       "      <td>2.000000</td>\n",
       "      <td>3.000000</td>\n",
       "      <td>3.000000</td>\n",
       "      <td>2.000000</td>\n",
       "      <td>3.000000</td>\n",
       "      <td>3.000000</td>\n",
       "      <td>3.000000</td>\n",
       "      <td>2.000000</td>\n",
       "      <td>2.000000</td>\n",
       "    </tr>\n",
       "    <tr>\n",
       "      <th>50%</th>\n",
       "      <td>1.000000</td>\n",
       "      <td>1.000000</td>\n",
       "      <td>1.000000</td>\n",
       "      <td>1.000000</td>\n",
       "      <td>1.000000</td>\n",
       "      <td>1.00000</td>\n",
       "      <td>1.000000</td>\n",
       "      <td>1.000000</td>\n",
       "      <td>1.000000</td>\n",
       "      <td>1.000000</td>\n",
       "      <td>...</td>\n",
       "      <td>5.000000</td>\n",
       "      <td>5.000000</td>\n",
       "      <td>5.000000</td>\n",
       "      <td>5.000000</td>\n",
       "      <td>5.000000</td>\n",
       "      <td>5.000000</td>\n",
       "      <td>5.000000</td>\n",
       "      <td>5.000000</td>\n",
       "      <td>4.000000</td>\n",
       "      <td>3.000000</td>\n",
       "    </tr>\n",
       "    <tr>\n",
       "      <th>75%</th>\n",
       "      <td>1.000000</td>\n",
       "      <td>1.000000</td>\n",
       "      <td>1.000000</td>\n",
       "      <td>1.000000</td>\n",
       "      <td>1.000000</td>\n",
       "      <td>1.00000</td>\n",
       "      <td>1.000000</td>\n",
       "      <td>1.000000</td>\n",
       "      <td>1.000000</td>\n",
       "      <td>1.000000</td>\n",
       "      <td>...</td>\n",
       "      <td>7.000000</td>\n",
       "      <td>7.000000</td>\n",
       "      <td>7.000000</td>\n",
       "      <td>7.000000</td>\n",
       "      <td>7.000000</td>\n",
       "      <td>7.000000</td>\n",
       "      <td>7.000000</td>\n",
       "      <td>7.000000</td>\n",
       "      <td>6.000000</td>\n",
       "      <td>4.000000</td>\n",
       "    </tr>\n",
       "    <tr>\n",
       "      <th>max</th>\n",
       "      <td>572.000000</td>\n",
       "      <td>583.000000</td>\n",
       "      <td>579.000000</td>\n",
       "      <td>580.000000</td>\n",
       "      <td>591.000000</td>\n",
       "      <td>600.00000</td>\n",
       "      <td>546.000000</td>\n",
       "      <td>591.000000</td>\n",
       "      <td>578.000000</td>\n",
       "      <td>578.000000</td>\n",
       "      <td>...</td>\n",
       "      <td>590.000000</td>\n",
       "      <td>587.000000</td>\n",
       "      <td>577.000000</td>\n",
       "      <td>598.000000</td>\n",
       "      <td>568.000000</td>\n",
       "      <td>599.000000</td>\n",
       "      <td>585.000000</td>\n",
       "      <td>600.000000</td>\n",
       "      <td>597.000000</td>\n",
       "      <td>5.000000</td>\n",
       "    </tr>\n",
       "  </tbody>\n",
       "</table>\n",
       "<p>8 rows × 521 columns</p>\n",
       "</div>"
      ],
      "text/plain": [
       "            w1_aaa      w2_pins       w3_kmr    w4_notion    w5_queens  \\\n",
       "count  2129.000000  2129.000000  2129.000000  2129.000000  2129.000000   \n",
       "mean      5.128229     6.097698     6.120244     5.551902     5.521841   \n",
       "std      38.292577    46.190953    46.656022    40.953913    40.978098   \n",
       "min       1.000000     1.000000     1.000000     1.000000     1.000000   \n",
       "25%       1.000000     1.000000     1.000000     1.000000     1.000000   \n",
       "50%       1.000000     1.000000     1.000000     1.000000     1.000000   \n",
       "75%       1.000000     1.000000     1.000000     1.000000     1.000000   \n",
       "max     572.000000   583.000000   579.000000   580.000000   591.000000   \n",
       "\n",
       "         w6_dwyer  w7_defenseman       w8_gld   w9_tocchet     w10_home  \\\n",
       "count  2129.00000    2129.000000  2129.000000  2129.000000  2129.000000   \n",
       "mean      6.12776       5.633161     6.090653     5.970409     5.624706   \n",
       "std      45.96434      41.146918    45.762060    44.266628    40.769105   \n",
       "min       1.00000       1.000000     1.000000     1.000000     1.000000   \n",
       "25%       1.00000       1.000000     1.000000     1.000000     1.000000   \n",
       "50%       1.00000       1.000000     1.000000     1.000000     1.000000   \n",
       "75%       1.00000       1.000000     1.000000     1.000000     1.000000   \n",
       "max     600.00000     546.000000   591.000000   578.000000   578.000000   \n",
       "\n",
       "          ...       w512_constantly  w513_generate  w514_definite  \\\n",
       "count     ...           2129.000000    2129.000000    2129.000000   \n",
       "mean      ...              9.666510       9.217473       9.061531   \n",
       "std       ...             45.844064      43.948910      40.969185   \n",
       "min       ...              1.000000       1.000000       1.000000   \n",
       "25%       ...              3.000000       2.000000       3.000000   \n",
       "50%       ...              5.000000       5.000000       5.000000   \n",
       "75%       ...              7.000000       7.000000       7.000000   \n",
       "max       ...            590.000000     587.000000     577.000000   \n",
       "\n",
       "        w515_lacks  w516_combination  w517_sitting  w518_surface  \\\n",
       "count  2129.000000       2129.000000   2129.000000   2129.000000   \n",
       "mean      9.398309          9.175200      9.708783      8.807891   \n",
       "std      43.833064         42.403283     47.294120     39.341038   \n",
       "min       1.000000          1.000000      1.000000      1.000000   \n",
       "25%       3.000000          2.000000      3.000000      3.000000   \n",
       "50%       5.000000          5.000000      5.000000      5.000000   \n",
       "75%       7.000000          7.000000      7.000000      7.000000   \n",
       "max     598.000000        568.000000    599.000000    585.000000   \n",
       "\n",
       "       w519_fashion     w520_sit        class  \n",
       "count   2129.000000  2129.000000  2129.000000  \n",
       "mean       9.719587     9.307656     3.092532  \n",
       "std       46.185082    45.059367     1.395948  \n",
       "min        1.000000     1.000000     1.000000  \n",
       "25%        3.000000     2.000000     2.000000  \n",
       "50%        5.000000     4.000000     3.000000  \n",
       "75%        7.000000     6.000000     4.000000  \n",
       "max      600.000000   597.000000     5.000000  \n",
       "\n",
       "[8 rows x 521 columns]"
      ]
     },
     "execution_count": 4,
     "metadata": {},
     "output_type": "execute_result"
    }
   ],
   "source": [
    "# Your code goes here\n",
    "trainA.describe()"
   ]
  },
  {
   "cell_type": "markdown",
   "metadata": {
    "collapsed": true
   },
   "source": [
    "### ========== Question 1.5 --- [3 marks] ==========\n",
    "Display the first 7 instances of dataset A."
   ]
  },
  {
   "cell_type": "markdown",
   "metadata": {},
   "source": [
    "<font color='red'>3/3</font>"
   ]
  },
  {
   "cell_type": "code",
   "execution_count": 5,
   "metadata": {},
   "outputs": [
    {
     "data": {
      "text/html": [
       "<div>\n",
       "<style>\n",
       "    .dataframe thead tr:only-child th {\n",
       "        text-align: right;\n",
       "    }\n",
       "\n",
       "    .dataframe thead th {\n",
       "        text-align: left;\n",
       "    }\n",
       "\n",
       "    .dataframe tbody tr th {\n",
       "        vertical-align: top;\n",
       "    }\n",
       "</style>\n",
       "<table border=\"1\" class=\"dataframe\">\n",
       "  <thead>\n",
       "    <tr style=\"text-align: right;\">\n",
       "      <th></th>\n",
       "      <th>w1_aaa</th>\n",
       "      <th>w2_pins</th>\n",
       "      <th>w3_kmr</th>\n",
       "      <th>w4_notion</th>\n",
       "      <th>w5_queens</th>\n",
       "      <th>w6_dwyer</th>\n",
       "      <th>w7_defenseman</th>\n",
       "      <th>w8_gld</th>\n",
       "      <th>w9_tocchet</th>\n",
       "      <th>w10_home</th>\n",
       "      <th>...</th>\n",
       "      <th>w512_constantly</th>\n",
       "      <th>w513_generate</th>\n",
       "      <th>w514_definite</th>\n",
       "      <th>w515_lacks</th>\n",
       "      <th>w516_combination</th>\n",
       "      <th>w517_sitting</th>\n",
       "      <th>w518_surface</th>\n",
       "      <th>w519_fashion</th>\n",
       "      <th>w520_sit</th>\n",
       "      <th>class</th>\n",
       "    </tr>\n",
       "  </thead>\n",
       "  <tbody>\n",
       "    <tr>\n",
       "      <th>0</th>\n",
       "      <td>1</td>\n",
       "      <td>1</td>\n",
       "      <td>1</td>\n",
       "      <td>1</td>\n",
       "      <td>1</td>\n",
       "      <td>1</td>\n",
       "      <td>1</td>\n",
       "      <td>1</td>\n",
       "      <td>1</td>\n",
       "      <td>1</td>\n",
       "      <td>...</td>\n",
       "      <td>1</td>\n",
       "      <td>5</td>\n",
       "      <td>3</td>\n",
       "      <td>6</td>\n",
       "      <td>8</td>\n",
       "      <td>4</td>\n",
       "      <td>6</td>\n",
       "      <td>4</td>\n",
       "      <td>8</td>\n",
       "      <td>4</td>\n",
       "    </tr>\n",
       "    <tr>\n",
       "      <th>1</th>\n",
       "      <td>1</td>\n",
       "      <td>1</td>\n",
       "      <td>1</td>\n",
       "      <td>1</td>\n",
       "      <td>1</td>\n",
       "      <td>1</td>\n",
       "      <td>1</td>\n",
       "      <td>1</td>\n",
       "      <td>1</td>\n",
       "      <td>1</td>\n",
       "      <td>...</td>\n",
       "      <td>2</td>\n",
       "      <td>3</td>\n",
       "      <td>6</td>\n",
       "      <td>8</td>\n",
       "      <td>3</td>\n",
       "      <td>4</td>\n",
       "      <td>5</td>\n",
       "      <td>6</td>\n",
       "      <td>5</td>\n",
       "      <td>4</td>\n",
       "    </tr>\n",
       "    <tr>\n",
       "      <th>2</th>\n",
       "      <td>1</td>\n",
       "      <td>1</td>\n",
       "      <td>1</td>\n",
       "      <td>1</td>\n",
       "      <td>1</td>\n",
       "      <td>1</td>\n",
       "      <td>1</td>\n",
       "      <td>1</td>\n",
       "      <td>1</td>\n",
       "      <td>2</td>\n",
       "      <td>...</td>\n",
       "      <td>4</td>\n",
       "      <td>2</td>\n",
       "      <td>6</td>\n",
       "      <td>5</td>\n",
       "      <td>2</td>\n",
       "      <td>5</td>\n",
       "      <td>5</td>\n",
       "      <td>7</td>\n",
       "      <td>8</td>\n",
       "      <td>2</td>\n",
       "    </tr>\n",
       "    <tr>\n",
       "      <th>3</th>\n",
       "      <td>1</td>\n",
       "      <td>1</td>\n",
       "      <td>1</td>\n",
       "      <td>1</td>\n",
       "      <td>1</td>\n",
       "      <td>1</td>\n",
       "      <td>1</td>\n",
       "      <td>1</td>\n",
       "      <td>1</td>\n",
       "      <td>1</td>\n",
       "      <td>...</td>\n",
       "      <td>6</td>\n",
       "      <td>3</td>\n",
       "      <td>6</td>\n",
       "      <td>1</td>\n",
       "      <td>1</td>\n",
       "      <td>8</td>\n",
       "      <td>1</td>\n",
       "      <td>8</td>\n",
       "      <td>4</td>\n",
       "      <td>3</td>\n",
       "    </tr>\n",
       "    <tr>\n",
       "      <th>4</th>\n",
       "      <td>1</td>\n",
       "      <td>1</td>\n",
       "      <td>1</td>\n",
       "      <td>1</td>\n",
       "      <td>1</td>\n",
       "      <td>1</td>\n",
       "      <td>1</td>\n",
       "      <td>1</td>\n",
       "      <td>1</td>\n",
       "      <td>1</td>\n",
       "      <td>...</td>\n",
       "      <td>6</td>\n",
       "      <td>1</td>\n",
       "      <td>7</td>\n",
       "      <td>8</td>\n",
       "      <td>6</td>\n",
       "      <td>3</td>\n",
       "      <td>1</td>\n",
       "      <td>8</td>\n",
       "      <td>4</td>\n",
       "      <td>3</td>\n",
       "    </tr>\n",
       "    <tr>\n",
       "      <th>5</th>\n",
       "      <td>1</td>\n",
       "      <td>1</td>\n",
       "      <td>1</td>\n",
       "      <td>1</td>\n",
       "      <td>1</td>\n",
       "      <td>1</td>\n",
       "      <td>1</td>\n",
       "      <td>1</td>\n",
       "      <td>1</td>\n",
       "      <td>1</td>\n",
       "      <td>...</td>\n",
       "      <td>7</td>\n",
       "      <td>5</td>\n",
       "      <td>4</td>\n",
       "      <td>5</td>\n",
       "      <td>5</td>\n",
       "      <td>7</td>\n",
       "      <td>7</td>\n",
       "      <td>7</td>\n",
       "      <td>2</td>\n",
       "      <td>2</td>\n",
       "    </tr>\n",
       "    <tr>\n",
       "      <th>6</th>\n",
       "      <td>1</td>\n",
       "      <td>1</td>\n",
       "      <td>1</td>\n",
       "      <td>1</td>\n",
       "      <td>2</td>\n",
       "      <td>1</td>\n",
       "      <td>1</td>\n",
       "      <td>1</td>\n",
       "      <td>1</td>\n",
       "      <td>1</td>\n",
       "      <td>...</td>\n",
       "      <td>3</td>\n",
       "      <td>6</td>\n",
       "      <td>8</td>\n",
       "      <td>8</td>\n",
       "      <td>3</td>\n",
       "      <td>5</td>\n",
       "      <td>2</td>\n",
       "      <td>1</td>\n",
       "      <td>2</td>\n",
       "      <td>1</td>\n",
       "    </tr>\n",
       "  </tbody>\n",
       "</table>\n",
       "<p>7 rows × 521 columns</p>\n",
       "</div>"
      ],
      "text/plain": [
       "   w1_aaa  w2_pins  w3_kmr  w4_notion  w5_queens  w6_dwyer  w7_defenseman  \\\n",
       "0       1        1       1          1          1         1              1   \n",
       "1       1        1       1          1          1         1              1   \n",
       "2       1        1       1          1          1         1              1   \n",
       "3       1        1       1          1          1         1              1   \n",
       "4       1        1       1          1          1         1              1   \n",
       "5       1        1       1          1          1         1              1   \n",
       "6       1        1       1          1          2         1              1   \n",
       "\n",
       "   w8_gld  w9_tocchet  w10_home  ...    w512_constantly  w513_generate  \\\n",
       "0       1           1         1  ...                  1              5   \n",
       "1       1           1         1  ...                  2              3   \n",
       "2       1           1         2  ...                  4              2   \n",
       "3       1           1         1  ...                  6              3   \n",
       "4       1           1         1  ...                  6              1   \n",
       "5       1           1         1  ...                  7              5   \n",
       "6       1           1         1  ...                  3              6   \n",
       "\n",
       "   w514_definite  w515_lacks  w516_combination  w517_sitting  w518_surface  \\\n",
       "0              3           6                 8             4             6   \n",
       "1              6           8                 3             4             5   \n",
       "2              6           5                 2             5             5   \n",
       "3              6           1                 1             8             1   \n",
       "4              7           8                 6             3             1   \n",
       "5              4           5                 5             7             7   \n",
       "6              8           8                 3             5             2   \n",
       "\n",
       "   w519_fashion  w520_sit  class  \n",
       "0             4         8      4  \n",
       "1             6         5      4  \n",
       "2             7         8      2  \n",
       "3             8         4      3  \n",
       "4             8         4      3  \n",
       "5             7         2      2  \n",
       "6             1         2      1  \n",
       "\n",
       "[7 rows x 521 columns]"
      ]
     },
     "execution_count": 5,
     "metadata": {},
     "output_type": "execute_result"
    }
   ],
   "source": [
    "# Your code goes here\n",
    "trainA.head(7)"
   ]
  },
  {
   "cell_type": "markdown",
   "metadata": {},
   "source": [
    "### ========== Question 1.6 --- [5 marks] ==========\n",
    "Display the names of the first 100 attributes in dataset A. \n",
    "\n",
    "You might observe that each attribute consists of two parts:\n",
    "1. `w<x>_` (where x is an index corresponding to each word)\n",
    "2. the actual name of the word"
   ]
  },
  {
   "cell_type": "markdown",
   "metadata": {},
   "source": [
    "<font color='red'>5/5</font>"
   ]
  },
  {
   "cell_type": "code",
   "execution_count": 6,
   "metadata": {},
   "outputs": [
    {
     "data": {
      "text/plain": [
       "Index(['w1_aaa', 'w2_pins', 'w3_kmr', 'w4_notion', 'w5_queens', 'w6_dwyer',\n",
       "       'w7_defenseman', 'w8_gld', 'w9_tocchet', 'w10_home', 'w11_buying',\n",
       "       'w12_internet', 'w13_slots', 'w14_compatible', 'w15_transfer',\n",
       "       'w16_baltimore', 'w17_mean', 'w18_person', 'w19_performance',\n",
       "       'w20_support', 'w21_tor', 'w22_gm', 'w23_mouse', 'w24_base',\n",
       "       'w25_population', 'w26_bob', 'w27_set', 'w28_it', 'w29_earth',\n",
       "       'w30_faith', 'w31_steve', 'w32_caps', 'w33_printer', 'w34_east',\n",
       "       'w35_cable', 'w36_adapter', 'w37_mss', 'w38_catcher', 'w39_bullpen',\n",
       "       'w40_obp', 'w41_innocent', 'w42_european', 'w43_angeles',\n",
       "       'w44_settings', 'w45_words', 'w46_rit', 'w47_shots', 'w48_ports',\n",
       "       'w49_vga', 'w50_coverage', 'w51_jumpers', 'w52_bases', 'w53_sea',\n",
       "       'w54_pts', 'w55_behavior', 'w56_domi', 'w57_sabres', 'w58_yzerman',\n",
       "       'w59_messier', 'w60_goalies', 'w61_hawks', 'w62_our', 'w63_sx',\n",
       "       'w64_view', 'w65_hitters', 'w66_richard', 'w67_point', 'w68_nyi',\n",
       "       'w69_mvp', 'w70_kill', 'w71_nl', 'w72_field', 'w73_connector',\n",
       "       'w74_stars', 'w75_th', 'w76_install', 'w77_traded', 'w78_configuration',\n",
       "       'w79_standard', 'w80_rotation', 'w81_ultb', 'w82_sports', 'w83_pds',\n",
       "       'w84_canada', 'w85_did', 'w86_clock', 'w87_first', 'w88_switch',\n",
       "       'w89_tonight', 'w90_record', 'w91_singer', 'w92_majors', 'w93_royals',\n",
       "       'w94_does', 'w95_flames', 'w96_of', 'w97_series', 'w98_plays',\n",
       "       'w99_det', 'w100_pitched'],\n",
       "      dtype='object')"
      ]
     },
     "execution_count": 6,
     "metadata": {},
     "output_type": "execute_result"
    }
   ],
   "source": [
    "# Your code goes here\n",
    "trainA.columns[0:100]"
   ]
  },
  {
   "cell_type": "markdown",
   "metadata": {},
   "source": [
    "### ========== Question 1.7 --- [4 marks] ==========\n",
    "Familiarise yourself with the [`stripplot`](https://seaborn.github.io/generated/seaborn.stripplot.html?highlight=stripplot#seaborn.stripplot) function in `seaborn`. Pick one attribute of your choice (except `class`) and display a stripplot for that attribute for dataset A. Demonstrate the distribution of the data separately for each class (by making appropriate use of the `x` argument in `stripplot`). Set the `jitter` argument to `True` and the `alpha` argument to an appropriate value (to add transparency). When the jitter parameter is enabled a small amount of noise is added to the data so that there is less overlap and the distribution is easier to visualise."
   ]
  },
  {
   "cell_type": "markdown",
   "metadata": {},
   "source": [
    "<font color='red'>0/5 \"Separately for each class\"</font>"
   ]
  },
  {
   "cell_type": "code",
   "execution_count": 7,
   "metadata": {},
   "outputs": [
    {
     "data": {
      "text/plain": [
       "<matplotlib.axes._subplots.AxesSubplot at 0x1062b2f60>"
      ]
     },
     "execution_count": 7,
     "metadata": {},
     "output_type": "execute_result"
    },
    {
     "data": {
      "image/png": "[encoded data removed]",
      "text/plain": [
       "<matplotlib.figure.Figure at 0x1062a2390>"
      ]
     },
     "metadata": {},
     "output_type": "display_data"
    }
   ],
   "source": [
    "# Your code goes here\n",
    "# print(trainA[\"w84_canada\"])\n",
    "sns.stripplot(x=trainA[\"w84_canada\"], jitter = True, alpha =0.5)"
   ]
  },
  {
   "cell_type": "markdown",
   "metadata": {},
   "source": [
    "### ========== Question 1.8 --- [4 marks] ==========\n",
    "The stripplot illustrates the distribution of a single attribute. We can also visualise the joint distribution of two variables by using a scatter plot. Again, we want to add a bit of noise into the data so that is easier to see which parts of the space (2-dimensional in our case) have larger probability densities. \n",
    "\n",
    "For this, you will be using the function `scatter_jitter` provided below. This function takes as input two numpy arrays containing the features of interest. Pick two attributes of your choice from dataset A and use the provided function to plot their joint distribution. You can play around with the amount of noise added by tweaking the `jitter` parameter. Alternatively, you can just use its default value which is set to 0.2."
   ]
  },
  {
   "cell_type": "markdown",
   "metadata": {},
   "source": [
    "<font color='red'>4/4</font>"
   ]
  },
  {
   "cell_type": "code",
   "execution_count": 8,
   "metadata": {
    "collapsed": true
   },
   "outputs": [],
   "source": [
    "def scatter_jitter(arr1, arr2, jitter=0.2):\n",
    "    \"\"\" Plots a joint scatter plot of two arrays by adding small noise to each example. \n",
    "    Noise is proportional to variance in each dimension. \"\"\"\n",
    "    arr1 = np.asarray(arr1)\n",
    "    arr2 = np.asarray(arr2)\n",
    "    arr1 = arr1 + jitter*arr1.std(axis=0)*np.random.standard_normal(arr1.shape)\n",
    "    arr2 = arr2 + jitter*arr2.std(axis=0)*np.random.standard_normal(arr2.shape)\n",
    "    plt.scatter(arr1, arr2, marker=4)"
   ]
  },
  {
   "cell_type": "code",
   "execution_count": 9,
   "metadata": {},
   "outputs": [
    {
     "data": {
      "image/png": "[encoded data removed]",
      "text/plain": [
       "<matplotlib.figure.Figure at 0x110f00c88>"
      ]
     },
     "metadata": {},
     "output_type": "display_data"
    }
   ],
   "source": [
    "# Your code goes here\n",
    "\n",
    "scatter_jitter(trainA[\"w84_canada\"], trainA[\"w50_coverage\"])\n",
    "# sns.clustermap(trainA)"
   ]
  },
  {
   "cell_type": "code",
   "execution_count": 10,
   "metadata": {
    "collapsed": true
   },
   "outputs": [],
   "source": [
    "# seed = 7\n",
    "# np.random.seed(seed)\n",
    "\n",
    "# # 2\n",
    "# from keras.models import Sequential\n",
    "# from keras.layers import Dense\n",
    "# model = Sequential()\n",
    "# model.add(Dense(12, input_shape=(11,), init='uniform', activation='sigmoid'))\n",
    "# model.add(Dense(12, init='uniform', activation='sigmoid'))\n",
    "# model.add(Dense(12, init='uniform', activation='sigmoid'))\n",
    "# model.add(Dense(1, init='uniform', activation='sigmoid'))\n",
    "# model.summary()\n",
    "\n",
    "# # 3\n",
    "# import keras\n",
    "# tbCallBack = keras.callbacks.TensorBoard(log_dir='/tmp/keras_logs', write_graph=True)\n",
    "\n",
    "# # 4\n",
    "# model.compile(loss='mean_squared_error', optimizer='adam', metrics=['accuracy'])\n",
    "# model.fit(dataframeX.values, dataframeY.values, epochs=9, batch_size=50,  verbose=1, validation_split=0.3, callbacks=[tbCallBack])"
   ]
  },
  {
   "cell_type": "markdown",
   "metadata": {},
   "source": [
    "### ========== Question 1.9 --- [7 marks] ==========\n",
    "From the strip and scatter plots above you might observe that there is something peculiar about the data. Indeed most attributes take very small values (usually in the range 1-10) but there are some data points (i.e. rows) in the dataset where the attributes take very large values. These data points are called [outliers](https://en.wikipedia.org/wiki/Outlier).\n",
    "\n",
    "You might think that the presence of outliers in the dataset has been a resut of noise contamination (you wouldn't expect the same word to appear 600 times within an e-mail, would you?). Your job now is to create a new dataset from dataset A (name it `news_A_clean`) and remove the outliers. Create some metric to find the outliers and check that your metric is reasonable. Be careful not to alter the original `news_A`...we may require it in its dirty format later..."
   ]
  },
  {
   "cell_type": "markdown",
   "metadata": {},
   "source": [
    "<font color='red'>7/7</font>"
   ]
  },
  {
   "cell_type": "code",
   "execution_count": 11,
   "metadata": {},
   "outputs": [
    {
     "name": "stdout",
     "output_type": "stream",
     "text": [
      "(2091, 521)\n"
     ]
    }
   ],
   "source": [
    "news_A_clean = trainA.copy()\n",
    "# Toggle between critical values by uncommenting one of the next three lines.\n",
    "# According to my study, 95% of the interval gap seems to work well.\n",
    "# critical_value = 2.576 # 99% critical value. \n",
    "critical_value = 1.96  # 95% critical value\n",
    "# critical_value = 1.645 # 90% critical value\n",
    "trainA_mean = trainA.mean()\n",
    "trainA_standard_deviation = trainA.std()\n",
    "trainA_index = len(trainA.index)\n",
    "trainA_column = len(trainA.columns)\n",
    "confidence_interval1 = trainA_mean + critical_value * trainA_standard_deviation # upper bound of the confidence interval for mean\n",
    "confidence_interval2 = trainA_mean - critical_value * trainA_standard_deviation\n",
    "columns = pd.Series(trainA.columns)\n",
    "for record in range(len(columns)):\n",
    "    news_A_clean = news_A_clean[((news_A_clean[columns[record]] <= confidence_interval1[record]) & (news_A_clean[columns[record]] >= confidence_interval2[record]))]\n",
    "print (news_A_clean.shape)"
   ]
  },
  {
   "cell_type": "markdown",
   "metadata": {},
   "source": [
    "# zscore outlier try - did not work"
   ]
  },
  {
   "cell_type": "code",
   "execution_count": 12,
   "metadata": {
    "collapsed": true
   },
   "outputs": [],
   "source": [
    "# sns.stripplot(x=trainA[\"w84_canada\"], jitter = True, alpha =0.5)\n",
    "# news_A_clean = trainA.copy()\n",
    "# # news_A_clean = news_A_clean[news_A_clean < 50]\n",
    "# for i in range(trainA.columns.shape[0]):\n",
    "#     news_A_clean = news_A_clean[~(abs(stats.zscore(news_A_clean[trainA.columns[i]])) > 3.29 )]\n",
    "# news_A_clean[abs(stats.zscore(news_A_clean)) < 3.29]\n",
    "# news_A_clean.dropna(inplace=True)\n",
    "# print(news_A_clean.shape)"
   ]
  },
  {
   "cell_type": "code",
   "execution_count": 13,
   "metadata": {},
   "outputs": [
    {
     "data": {
      "text/plain": [
       "<matplotlib.axes._subplots.AxesSubplot at 0x1061bd160>"
      ]
     },
     "execution_count": 13,
     "metadata": {},
     "output_type": "execute_result"
    },
    {
     "data": {
      "image/png": "[encoded data removed]",
      "text/plain": [
       "<matplotlib.figure.Figure at 0x1062026d8>"
      ]
     },
     "metadata": {},
     "output_type": "display_data"
    }
   ],
   "source": [
    "sns.stripplot(x=trainA[\"w84_canada\"], jitter = True, alpha =0.5)"
   ]
  },
  {
   "cell_type": "markdown",
   "metadata": {},
   "source": [
    "# IQR reduction outlier try:\n",
    "Has not proven to work well. As the data seems to be reduntant, IQR or zscore could not help."
   ]
  },
  {
   "cell_type": "code",
   "execution_count": 14,
   "metadata": {
    "collapsed": true
   },
   "outputs": [],
   "source": [
    "# Your code goes here\n",
    "# trainA.columns.shape[0]\n",
    "# news_A_clean = trainA.copy()\n",
    "##################### InterQuantile pruning is reducing the datapoints from 2621 to 6 !! So, withdrew! ######################\n",
    "# As outliers act as influential points that affect the total distribution fo each attribute.\n",
    "# for i in range(trainA.columns.shape[0]):\n",
    "#     Q1, Q3, IQR = 0, 0, 0\n",
    "#     Q1 = trainA[trainA.columns[i]].quantile(0.25)\n",
    "#     Q3 = trainA[trainA.columns[i]].quantile(0.75)\n",
    "#     IQR = Q3 - Q1\n",
    "#     news_A_clean = news_A_clean[~(news_A_clean[trainA.columns[i]] >(Q3+IQR*1.5))]\n",
    "#     news_A_clean = news_A_clean[~(news_A_clean[trainA.columns[i]] <(Q1-IQR*1.5))]\n",
    "#     print(IQR)\n",
    "#     print(news_A_clean.shape)\n",
    "##################### Different approach #2\n",
    "# for i in range(trainA.columns.shape[0]):\n",
    "# #     print(news_A_clean[trainA.columns[i]])\n",
    "#     q = news_A_clean[news_A_clean.columns[i]].quantile(1)\n",
    "#     news_A_clean = news_A_clean[news_A_clean[news_A_clean.columns[i]] < q]\n",
    "#     print(news_A_clean.shape)\n",
    "# print(news_A_clean.shape)"
   ]
  },
  {
   "cell_type": "code",
   "execution_count": 15,
   "metadata": {},
   "outputs": [
    {
     "data": {
      "text/plain": [
       "<matplotlib.axes._subplots.AxesSubplot at 0x116d22160>"
      ]
     },
     "execution_count": 15,
     "metadata": {},
     "output_type": "execute_result"
    },
    {
     "data": {
      "image/png": "[encoded data removed]",
      "text/plain": [
       "<matplotlib.figure.Figure at 0x11646ec50>"
      ]
     },
     "metadata": {},
     "output_type": "display_data"
    }
   ],
   "source": [
    "sns.stripplot(x=news_A_clean[\"w84_canada\"], jitter = True, alpha =0.5)"
   ]
  },
  {
   "cell_type": "markdown",
   "metadata": {},
   "source": [
    "### ========== Question 1.10 --- [3 marks] ==========\n",
    "Write code to return the number of data points in the clean dataset, and the number of documents that have been excluded as outliers"
   ]
  },
  {
   "cell_type": "markdown",
   "metadata": {},
   "source": [
    "<font color='red'>1/3</font>"
   ]
  },
  {
   "cell_type": "code",
   "execution_count": 16,
   "metadata": {},
   "outputs": [
    {
     "data": {
      "text/plain": [
       "(2091, 521)"
      ]
     },
     "execution_count": 16,
     "metadata": {},
     "output_type": "execute_result"
    }
   ],
   "source": [
    "# Your code goes here\n",
    "news_A_clean.shape"
   ]
  },
  {
   "cell_type": "markdown",
   "metadata": {},
   "source": [
    "## 2. Naive Bayes classification [60%]\n",
    "Now we want to fit a Gaussian Naive Bayes model to the cleaned dataset A. You might want first to familiarise yourself with the [`GaussianNB`](http://scikit-learn.org/stable/modules/generated/sklearn.naive_bayes.GaussianNB.html) class in `Sklearn`."
   ]
  },
  {
   "cell_type": "markdown",
   "metadata": {},
   "source": [
    "### ========== Question 2.1 --- [4 marks] ==========\n",
    "\n",
    "By using the `scatter_jitter` function provided above, display a scatter plot of the features `w281_ico` and `w273_tek` for the cleaned dataset A. Set the jitter value to something small (e.g. 0.1). Label axes appropriately."
   ]
  },
  {
   "cell_type": "markdown",
   "metadata": {},
   "source": [
    "<font color='red'>3/4 Label axes</font>"
   ]
  },
  {
   "cell_type": "code",
   "execution_count": 17,
   "metadata": {
    "scrolled": true
   },
   "outputs": [
    {
     "data": {
      "image/png": "[encoded data removed]",
      "text/plain": [
       "<matplotlib.figure.Figure at 0x1062027b8>"
      ]
     },
     "metadata": {},
     "output_type": "display_data"
    }
   ],
   "source": [
    "#<font color='red'>1/3</font> Your code goes here\n",
    "scatter_jitter(news_A_clean['w281_ico'], news_A_clean['w273_tek'])"
   ]
  },
  {
   "cell_type": "markdown",
   "metadata": {},
   "source": [
    "### ========== Question 2.2 --- [6 marks] ==========\n",
    "What do you observe? \n",
    "\n",
    "How does that relate to the Naive Bayes assumption? \n",
    "\n",
    "What would be the main issue we would have to face if we didn't make this assumption?"
   ]
  },
  {
   "cell_type": "markdown",
   "metadata": {},
   "source": [
    "<font color='red'>5/6 We have 520 attributes</font>"
   ]
  },
  {
   "cell_type": "markdown",
   "metadata": {},
   "source": [
    "*Your answer goes here*\n",
    "\n",
    "It looks like two randomly selected attributes are positively correlated as pairs of them exist. This clashes with the conditional independence assumption of Naive Bayes that makes up the model. If we have nnont made that assumption, then we would have to frame a confusion matrix formatted matrix that holds covariance betweeen the attributes. Considering that we have 521 attributes and we dont have enough of the data poinnts to compute covariance or correlation. Doing so might make the onforth acuracy suffer. So, independence has proven to be better than the other case. We are only assuming conditional independence of the attributrs not just independence."
   ]
  },
  {
   "cell_type": "markdown",
   "metadata": {},
   "source": [
    "### ========== Question 2.3 --- [5 marks] ==========\n",
    "Fit a Gaussian Naive Bayes model to the cleaned dataset A. Your input features should be all the attributes in the dataset except the `class` attribute which will be your target. Display the classification accuracy on the training dataset."
   ]
  },
  {
   "cell_type": "markdown",
   "metadata": {},
   "source": [
    "<font color='red'>2/5 Display the classification accuracy</font>"
   ]
  },
  {
   "cell_type": "code",
   "execution_count": 18,
   "metadata": {},
   "outputs": [
    {
     "data": {
      "text/plain": [
       "GaussianNB(priors=None)"
      ]
     },
     "execution_count": 18,
     "metadata": {},
     "output_type": "execute_result"
    }
   ],
   "source": [
    "# Your code goes here\n",
    "from sklearn.naive_bayes import GaussianNB\n",
    "attributes_A = news_A_clean.copy()\n",
    "class_A = attributes_A['class']\n",
    "attributes_A = attributes_A.drop(\"class\", axis = 1)\n",
    "attributes_A.describe()\n",
    "class_A.describe()\n",
    "model = GaussianNB()\n",
    "model.fit(attributes_A, class_A)"
   ]
  },
  {
   "cell_type": "markdown",
   "metadata": {},
   "source": [
    "### ========== Question 2.4 --- [5 marks] ==========\n",
    "Plot the (normalised) confusion matrix for the training data. Label axes appropriately."
   ]
  },
  {
   "cell_type": "markdown",
   "metadata": {},
   "source": [
    "<font color='red'>5/5</font>"
   ]
  },
  {
   "cell_type": "code",
   "execution_count": 19,
   "metadata": {},
   "outputs": [
    {
     "data": {
      "image/png": "[encoded data removed]",
      "text/plain": [
       "<matplotlib.figure.Figure at 0x116e97fd0>"
      ]
     },
     "metadata": {},
     "output_type": "display_data"
    },
    {
     "name": "stdout",
     "output_type": "stream",
     "text": [
      "Accuracy is= 0.889048\n"
     ]
    }
   ],
   "source": [
    "# Your code goes here\n",
    "from sklearn.metrics import confusion_matrix\n",
    "classes=['1','2','3','4','5']\n",
    "predicted_class = model.predict(attributes_A)\n",
    "cm = confusion_matrix(predicted_class, class_A)\n",
    "# If this should not be normalized, comment out the next line to see a raw version.\n",
    "cm = cm.astype('float') / cm.sum(axis=1)[:, np.newaxis]\n",
    "sns.heatmap(cm, xticklabels=classes, yticklabels=classes, vmin=0., vmax=1., annot=True)\n",
    "plt.title('NOrmalized version')\n",
    "plt.ylabel('True label')\n",
    "plt.xlabel('Predicted label')\n",
    "plt.show()\n",
    "accuracy = model.score(attributes_A, class_A)\n",
    "print('Accuracy is= %f' % accuracy)\n",
    "\n",
    "# Commenting out the normalizing statement might yield a confusionn matrix plot with overlow of the predicted value. \n",
    "# This proves and realizes the usage of normalization. As it is easy to develop intuitions on the data."
   ]
  },
  {
   "cell_type": "markdown",
   "metadata": {},
   "source": [
    "### ========== Question 2.5 --- [3 marks] ==========\n",
    "\n",
    "Comment on the confusion matrix from the previous question. Does it look like what you would have expected? Explain."
   ]
  },
  {
   "cell_type": "markdown",
   "metadata": {},
   "source": [
    "<font color='red'>1/3</font>"
   ]
  },
  {
   "cell_type": "markdown",
   "metadata": {},
   "source": [
    "*Your answer goes here*\n",
    "1. The Confusion matrix fits my expectation as the accuracy speaks for itself. (0.89 approx.) So many true positives along the diagonal.\n",
    "2. Confusion matrix should have a leading diagonal values comparing with other rows. It has happened so. \n",
    "3. Last two rows show us that the attributes are conditionally independent of other especially for class pairs (1,5), (2,5),(3,5),(4,5),(1,4),(2,4),(3,4).\n",
    "4. From point no:3, we can also see that the model worked fine as it was said in the dataset description that classes (2,3) (ibm, mac) and (4,5) (baseball, hockey) are closely related. Similarly, from the confusion matrix, except the leading(principal) diagonal other highest scores are 0.21 for classes (2, 3) and then 0.078 for classes (4,5). Hence the confusion matrix.\n"
   ]
  },
  {
   "cell_type": "markdown",
   "metadata": {},
   "source": [
    "### ========== Question 2.6 --- [5 marks] ==========\n",
    "Fit a Gaussian Naive Bayes model to the original dataset A (including the outliers). Display the classification accuracy on the training dataset."
   ]
  },
  {
   "cell_type": "markdown",
   "metadata": {},
   "source": [
    "<font color='red'>5/5</font>"
   ]
  },
  {
   "cell_type": "code",
   "execution_count": 20,
   "metadata": {},
   "outputs": [
    {
     "name": "stdout",
     "output_type": "stream",
     "text": [
      "0.205260685768\n"
     ]
    }
   ],
   "source": [
    "# Your code goes here\n",
    "attributes_A_with_outliers = trainA.copy()\n",
    "class_A_with_outliers = attributes_A_with_outliers['class']\n",
    "attributes_A_with_outliers = attributes_A_with_outliers.drop('class', axis = 1)\n",
    "model_with_outliers = GaussianNB()\n",
    "model_with_outliers.fit(attributes_A_with_outliers, class_A_with_outliers)\n",
    "predicted_class_with_outliers = model_with_outliers.predict(attributes_A_with_outliers)\n",
    "accuracy_with_outliers = model_with_outliers.score(attributes_A_with_outliers, class_A_with_outliers)\n",
    "print(accuracy_with_outliers)"
   ]
  },
  {
   "cell_type": "markdown",
   "metadata": {},
   "source": [
    "### ========== Question 2.7 --- [4 marks] ==========\n",
    "Comment on the above results (Questions 2.3 & 2.6). In particular explain why you think that cleaning the data helps in this case."
   ]
  },
  {
   "cell_type": "markdown",
   "metadata": {},
   "source": [
    "<font color='red'>4/4</font>"
   ]
  },
  {
   "cell_type": "markdown",
   "metadata": {},
   "source": [
    "*Your answer goes here*\n",
    "\n",
    "Being a guassian model, the distribution is getting tampered much and the impact is shown inthe accuracy. Outliers tamper the distribution by increasing the variance of it. Hence the accuracy. Outliers are dangerous for such models. Such models could be generative (like naive Bayes) models. Descriminative models are not sensitive to outiers like this. Descriminative models like logistic regression may be less sensitive to outliers than a Gaussian generative model like ours."
   ]
  },
  {
   "cell_type": "markdown",
   "metadata": {},
   "source": [
    "### ========== Question 2.8 --- [5 marks] ==========\n",
    "\n",
    "Now we want to evaluate the generalisation of the classifier on new (i.e. unseen data). Use the classifier you trained in Question 2.5 (i.e. on the cleaned dataset) and test its performance on dataset `train_20news_partB`. \n",
    "\n",
    "Display the (normalized) confusion matrix and the classification accuracy on the Dataset B."
   ]
  },
  {
   "cell_type": "markdown",
   "metadata": {},
   "source": [
    "<font color='red'>5/5</font>"
   ]
  },
  {
   "cell_type": "code",
   "execution_count": 21,
   "metadata": {},
   "outputs": [
    {
     "data": {
      "image/png": "[encoded data removed]",
      "text/plain": [
       "<matplotlib.figure.Figure at 0x118112908>"
      ]
     },
     "metadata": {},
     "output_type": "display_data"
    },
    {
     "name": "stdout",
     "output_type": "stream",
     "text": [
      "Accuracy is= 0.835938\n"
     ]
    }
   ],
   "source": [
    "# Your code goes here\n",
    "attributes_B = trainB.copy()\n",
    "class_B = trainB['class']\n",
    "attributes_B = attributes_B.drop('class', axis =1)\n",
    "predicted_classes_B = model.predict(attributes_B)\n",
    "cm_B = confusion_matrix(predicted_classes_B, class_B)\n",
    "cm_B = cm_B.astype('float') / cm_B.sum(axis=1)[:, np.newaxis]\n",
    "sns.heatmap(cm_B, xticklabels=classes, yticklabels=classes, vmin=0., vmax=1., annot=True)\n",
    "plt.title('Normalized version')\n",
    "plt.ylabel('True label')\n",
    "plt.xlabel('Predicted label')\n",
    "plt.show()\n",
    "accuracy_B = model.score(attributes_B, class_B)\n",
    "print('Accuracy is= %f' % accuracy_B)"
   ]
  },
  {
   "cell_type": "markdown",
   "metadata": {},
   "source": [
    "### ========== Question 2.9 --- [4 marks] ==========\n",
    "\n",
    "Comment on the results from the previous question. Do you think this is an acceptable level of performance? Which are the easiest and most difficult classes to predict correctly? "
   ]
  },
  {
   "cell_type": "markdown",
   "metadata": {},
   "source": [
    "<font color='red'>4/4</font>"
   ]
  },
  {
   "cell_type": "markdown",
   "metadata": {},
   "source": [
    "*Your answer goes here*\n",
    "\n",
    "I suppose the accuracy is acceptable as we get an accuracy of 83.5%. It is acceptable as it is an unseen data and also we have not removed outliers. Owing to these caveats, the performance is acceptable. Having analysed the normalised confusion matrix, we can say that class '2' and '3' seem to be confused by the model. Classes '1' and '5' are easy to be not confused by the model."
   ]
  },
  {
   "cell_type": "markdown",
   "metadata": {},
   "source": [
    "### ========== Question 2.10 --- [4 marks] ==========\n",
    "What is a reasonable baseline against which to compare the classiffication performance? *Hint: What is the simplest classiffier you can think of and what would its performance be on this dataset?* "
   ]
  },
  {
   "cell_type": "markdown",
   "metadata": {},
   "source": [
    "<font color='red'>1/4 Multinomial is probably not the simpelest</font>"
   ]
  },
  {
   "cell_type": "markdown",
   "metadata": {},
   "source": [
    "*Your answer goes here*\n",
    "\n",
    "After applying few classifiers (implemented below), I find Multinomial NB classifier to be the baseline and Random Forest (SVM, MNB and RF coded below) to be the best of all. Other models tend to have lesser accuracy. Even f(1)-score is higher for Random Forest."
   ]
  },
  {
   "cell_type": "markdown",
   "metadata": {},
   "source": [
    "### ========== Question 2.11 --- [4 marks] ==========\n",
    "\n",
    "Estimate the baseline performance.\n"
   ]
  },
  {
   "cell_type": "markdown",
   "metadata": {},
   "source": [
    "<font color='red'>3/4</font>"
   ]
  },
  {
   "cell_type": "markdown",
   "metadata": {},
   "source": [
    "Here, I have presented with 4 other models that can be used to compare the models with Guassian NB. \n",
    "4 other models in the order of appearance.\n",
    "1. Multinomial Naïve Bayes\n",
    "2. Support Vector Classification.\n",
    "3. Ranndom Forest\n",
    "4. A vanilla multi layer neural network."
   ]
  },
  {
   "cell_type": "code",
   "execution_count": 22,
   "metadata": {},
   "outputs": [
    {
     "name": "stdout",
     "output_type": "stream",
     "text": [
      "0.5234375\n"
     ]
    }
   ],
   "source": [
    "# Your code goes here\n",
    "######### Multinomial NB\n",
    "from sklearn.naive_bayes import MultinomialNB\n",
    "from sklearn.metrics import accuracy_score\n",
    "mnb = MultinomialNB()\n",
    "mnb.fit(attributes_A, class_A)\n",
    "predicted_class_baseline_mnb = mnb.predict(attributes_B)\n",
    "score_mnb = accuracy_score(class_B, predicted_class_baseline_mnb)\n",
    "print(score_mnb)"
   ]
  },
  {
   "cell_type": "code",
   "execution_count": 51,
   "metadata": {},
   "outputs": [
    {
     "name": "stdout",
     "output_type": "stream",
     "text": [
      "0.6953125\n"
     ]
    }
   ],
   "source": [
    "######### SVC\n",
    "from sklearn import svm\n",
    "clf = svm.SVC(decision_function_shape='ovo')\n",
    "clf.fit(attributes_A, class_A)\n",
    "predicted_class_baseline_svm = clf.predict(attributes_B)\n",
    "score_svm = accuracy_score(class_B, predicted_class_baseline_svm)\n",
    "print(score_svm)"
   ]
  },
  {
   "cell_type": "code",
   "execution_count": 24,
   "metadata": {},
   "outputs": [
    {
     "name": "stdout",
     "output_type": "stream",
     "text": [
      "0.8671875\n"
     ]
    }
   ],
   "source": [
    "######### Random Forest\n",
    "from sklearn.ensemble import RandomForestClassifier\n",
    "rf = RandomForestClassifier(n_estimators = 50)\n",
    "rf.fit(attributes_A, class_A)\n",
    "predicted_class_baseline_rf = rf.predict(attributes_B)\n",
    "score_rf = accuracy_score(class_B, predicted_class_baseline_rf)\n",
    "print(score_rf)"
   ]
  },
  {
   "cell_type": "code",
   "execution_count": 25,
   "metadata": {},
   "outputs": [
    {
     "name": "stdout",
     "output_type": "stream",
     "text": [
      "0.765625\n"
     ]
    }
   ],
   "source": [
    "########## A vanilla neural network\n",
    "from sklearn.neural_network import MLPClassifier\n",
    "nn = MLPClassifier(solver='lbfgs', hidden_layer_sizes=(3, 2), random_state=1)\n",
    "nn.fit(attributes_A, class_A)\n",
    "predicted_class_baseline_nn = nn.predict(attributes_B)\n",
    "score_nn = accuracy_score(class_B, predicted_class_baseline_nn)\n",
    "print(score_nn)"
   ]
  },
  {
   "cell_type": "markdown",
   "metadata": {},
   "source": [
    "### ========== Question 2.12 --- [3 marks] ==========\n",
    "\n",
    "Execute the cell below to get the prediction on the test dataset by using a different classifier which we will be introducing in this class later on. By using this prediction provided below (`rf_prediction`) plot the confusion matrix and display the classification accuracy on the test dataset. *Important: Make sure the test dataset is loaded in a DataFrame called `news_B` otherwise execution will return an error. In that case replace the DataFrame name in the third line.*"
   ]
  },
  {
   "cell_type": "markdown",
   "metadata": {},
   "source": [
    "<font color='red'>3/3</font>"
   ]
  },
  {
   "cell_type": "code",
   "execution_count": 26,
   "metadata": {},
   "outputs": [
    {
     "data": {
      "image/png": "[encoded data removed]",
      "text/plain": [
       "<matplotlib.figure.Figure at 0x11b956e10>"
      ]
     },
     "metadata": {},
     "output_type": "display_data"
    },
    {
     "name": "stdout",
     "output_type": "stream",
     "text": [
      "Accuracy is= 0.835938\n"
     ]
    }
   ],
   "source": [
    "from sklearn.ensemble import RandomForestClassifier\n",
    "rf = RandomForestClassifier(n_estimators = 50).fit(X=news_A_clean.drop(\"class\", axis=1), y=news_A_clean[\"class\"])\n",
    "X_ts = trainB.drop('class', axis=1)\n",
    "rf_prediction = rf.predict(X=X_ts)\n",
    "# Your code goes here\n",
    "cm_B_rf = confusion_matrix(rf_prediction, class_B)\n",
    "cm_B_rf = cm_B_rf.astype('float') / cm_B_rf.sum(axis=1)[:, np.newaxis]\n",
    "sns.heatmap(cm_B_rf, xticklabels=classes, yticklabels=classes, vmin=0., vmax=1., annot=True)\n",
    "plt.title('Normalized version')\n",
    "plt.ylabel('True label')\n",
    "plt.xlabel('Predicted label')\n",
    "plt.show()\n",
    "accuracy_B = model.score(X_ts, class_B)\n",
    "print('Accuracy is= %f' % accuracy_B)"
   ]
  },
  {
   "cell_type": "markdown",
   "metadata": {},
   "source": [
    "### ========== Question 2.13 --- [8 marks] ==========\n",
    "\n",
    "Which classifier (Naive Bayes or Random Forest) would you trust if you had to choose? What are the reasons you believe the Gaussian Naive Bayes classifier does not perofm so well in this particular problem? You are not expected to justify the performance level achieved by the Random Forest classifier. Feel free to use code and plots to illustrate your points."
   ]
  },
  {
   "cell_type": "markdown",
   "metadata": {},
   "source": [
    "<font color='red'>6/8</font>"
   ]
  },
  {
   "cell_type": "markdown",
   "metadata": {},
   "source": [
    "*Your answer goes here*\n",
    "\n",
    "If asked to choose between RF and NB, I would go with Random forest, the reason is RF can be trusted more if there are more trees (a.k.a n_estimators). \n",
    "Being a text classification problem, where words depend on others, we cannot blindly make the conditional independence assumption (in naive bayes classifier). Random Forest doesnt assume so and takes care of the dependency between the attributes. This can be realised by an n-gram language model, where the co-occurrence of words are the main thing. \n",
    "\n",
    "Also, Decision trees are readable. "
   ]
  },
  {
   "cell_type": "markdown",
   "metadata": {},
   "source": [
    "# Extra Insights:\n",
    "\n",
    "Returning highest occurring words for each class as given in the corpus."
   ]
  },
  {
   "cell_type": "code",
   "execution_count": 27,
   "metadata": {
    "collapsed": true
   },
   "outputs": [],
   "source": [
    "def returnWordCloudEntries(news):\n",
    "    count = np.sum(news, axis=0)\n",
    "    count = count / total_sum # Normalized\n",
    "    top = count[np.argsort(count)[-10:]] # Top 10 words\n",
    "    words = top.keys()\n",
    "    words = [( j.split('_')[1]) for i, j in enumerate(words)] # Dict to list\n",
    "    return(words)"
   ]
  },
  {
   "cell_type": "code",
   "execution_count": 28,
   "metadata": {},
   "outputs": [
    {
     "name": "stdout",
     "output_type": "stream",
     "text": [
      "Mac class highest occurring words ['monitor', 'quadra', 'centris', 'se', 'simms', 'use', 'lc', 'problem', 'apple', 'mac']\n",
      "IBM class highest occurring words ['drives', 'dos', 'controller', 'pc', 'card', 'bus', 'ide', 'mb', 'drive', 'scsi']\n",
      "Atheism class highest occurring words ['your', 'are', 'it', 'people', 'we', 'not', 'you', 'god', 'of', 'that']\n",
      "Baseball class highest occurring words ['claim', 'mac', 'runs', 'play', 'mets', 'shots', 'morality', 'season', 'card', 'nhl']\n",
      "Hockey class highest occurring words ['innocent', 'ports', 'calgary', 'nhl', 'centris', 'apple', 'drive', 'mac', 'game', 'notion']\n"
     ]
    }
   ],
   "source": [
    "total_sum = (np.sum(news_A_clean, axis=0))\n",
    "atheism_news = news_A_clean[news_A_clean['class'] == 1]\n",
    "ibm_news = news_A_clean[news_A_clean['class'] == 2]\n",
    "mac_news = news_A_clean[news_A_clean['class'] == 3]\n",
    "baseball_news = news_A_clean[news_A_clean['class'] == 4]\n",
    "baseball_news = baseball_news.drop('class', 1)\n",
    "hockey_news = news_A_clean[news_A_clean['class'] == 5]\n",
    "hockey_news = hockey_news.drop('class', 1)\n",
    "# print(baseball_news)\n",
    "## For Highest word count for a class.\n",
    "atheism_words = (returnWordCloudEntries(atheism_news))\n",
    "ibm_words = (returnWordCloudEntries(ibm_news))\n",
    "mac_words = (returnWordCloudEntries(mac_news))\n",
    "baseball_words = (returnWordCloudEntries(baseball_news))\n",
    "hockey_words = (returnWordCloudEntries(hockey_news))\n",
    "print(\"Mac class highest occurring words\", mac_words)\n",
    "print(\"IBM class highest occurring words\",ibm_words)\n",
    "print(\"Atheism class highest occurring words\",atheism_words)\n",
    "print(\"Baseball class highest occurring words\",baseball_words)\n",
    "print(\"Hockey class highest occurring words\",hockey_words)\n"
   ]
  },
  {
   "cell_type": "markdown",
   "metadata": {},
   "source": [
    "ROC Curve plot for Naive Bayes classifier."
   ]
  },
  {
   "cell_type": "code",
   "execution_count": 50,
   "metadata": {},
   "outputs": [
    {
     "name": "stdout",
     "output_type": "stream",
     "text": [
      "[ 0.          0.02912621  0.2815534   0.49514563  0.80582524  1.        ]\n",
      "[ 0.  1.  1.  1.  1.  1.]\n",
      "[6 5 4 3 2 1]\n"
     ]
    },
    {
     "data": {
      "image/png": "[encoded data removed]",
      "text/plain": [
       "<matplotlib.figure.Figure at 0x11cf3d438>"
      ]
     },
     "metadata": {},
     "output_type": "display_data"
    }
   ],
   "source": [
    "from sklearn.metrics import roc_curve, auc\n",
    "fpr = dict()\n",
    "tpr = dict()\n",
    "roc_auc = dict()\n",
    "# for i in range(len(classes)):\n",
    "#     fpr[i], tpr[i], _ = roc_curve(predicted_classes_B[i], class_B[i])\n",
    "#     roc_auc[i] = auc(fpr[i], tpr[i])\n",
    "fpr, tpr, thresholds = roc_curve(predicted_classes_B, class_B, pos_label=5)\n",
    "print(fpr)\n",
    "print(tpr)\n",
    "print(thresholds)\n",
    "plt.plot(fpr, tpr)\n",
    "plt.xlabel('False Positive Rate')\n",
    "plt.ylabel('True Positive Rate')\n",
    "\n",
    "plt.show()"
   ]
  },
  {
   "cell_type": "code",
   "execution_count": 52,
   "metadata": {
    "collapsed": true
   },
   "outputs": [],
   "source": [
    "#### Terribly failed after trying to implement ROC efficiently.\n",
    "# import scikitplot as skplt\n",
    "# import matplotlib.pyplot as plt\n",
    "# skplt.metrics.plot_roc_curve(class_B, predicted_classes_B)\n",
    "# plt.show()"
   ]
  },
  {
   "cell_type": "code",
   "execution_count": null,
   "metadata": {
    "collapsed": true
   },
   "outputs": [],
   "source": []
  }
 ],
 "metadata": {
  "kernelspec": {
   "display_name": "Python 2",
   "language": "python",
   "name": "python2"
  },
  "language_info": {
   "codemirror_mode": {
    "name": "ipython",
    "version": 2
   },
   "file_extension": ".py",
   "mimetype": "text/x-python",
   "name": "python",
   "nbconvert_exporter": "python",
   "pygments_lexer": "ipython2",
   "version": "2.7.14"
  }
 },
 "nbformat": 4,
 "nbformat_minor": 1
}
